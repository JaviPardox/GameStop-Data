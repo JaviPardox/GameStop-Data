{
 "cells": [
  {
   "cell_type": "markdown",
   "metadata": {},
   "source": [
    "# GameStop"
   ]
  },
  {
   "cell_type": "code",
   "execution_count": 13,
   "metadata": {},
   "outputs": [],
   "source": [
    "import requests\n",
    "import json\n",
    "import pandas as pd\n",
    "import matplotlib.pyplot as plt\n",
    "import datetime\n",
    "from datetime import datetime, timedelta\n",
    "import numpy as np\n",
    "import os"
   ]
  },
  {
   "cell_type": "code",
   "execution_count": 14,
   "metadata": {},
   "outputs": [
    {
     "name": "stdout",
     "output_type": "stream",
     "text": [
      "<Response [200]>\n"
     ]
    }
   ],
   "source": [
    "# url = 'https://cloud.iexapis.com/stable/stock/GME/financials/5?token=sk_a6ef19bab2c5459093f4aaac416b6219&period=annual'\n",
    "url = 'https://cloud.iexapis.com/stable/stock/GME/'\n",
    "token = 'sk_a6ef19bab2c5459093f4aaac416b6219'\n",
    "query_url = url + 'financials/5?token=' + token + '&period=annual'\n",
    "print(requests.get(query_url))"
   ]
  },
  {
   "cell_type": "markdown",
   "metadata": {},
   "source": [
    "## GameStop Financials"
   ]
  },
  {
   "cell_type": "code",
   "execution_count": 15,
   "metadata": {},
   "outputs": [],
   "source": [
    "response = requests.get(query_url)\n",
    "gme = response.json()"
   ]
  },
  {
   "cell_type": "code",
   "execution_count": 4,
   "metadata": {},
   "outputs": [
    {
     "data": {
      "text/html": [
       "<style  type=\"text/css\" >\n",
       "</style><table id=\"T_71d2345e_6328_11eb_87cc_c858c0612992\" ><thead>    <tr>        <th class=\"blank level0\" ></th>        <th class=\"col_heading level0 col0\" >Date</th>        <th class=\"col_heading level0 col1\" >EBITDA</th>        <th class=\"col_heading level0 col2\" >Total Cash</th>        <th class=\"col_heading level0 col3\" >Total Debt</th>        <th class=\"col_heading level0 col4\" >Gross Profit</th>        <th class=\"col_heading level0 col5\" >Cash Flow</th>        <th class=\"col_heading level0 col6\" >Common Stock</th>        <th class=\"col_heading level0 col7\" >Total Assets</th>        <th class=\"col_heading level0 col8\" >Total Investment Cash Flow</th>        <th class=\"col_heading level0 col9\" >Total Liabilities</th>        <th class=\"col_heading level0 col10\" >Total Revenue</th>    </tr></thead><tbody>\n",
       "                <tr>\n",
       "                        <th id=\"T_71d2345e_6328_11eb_87cc_c858c0612992level0_row0\" class=\"row_heading level0 row0\" >0</th>\n",
       "                        <td id=\"T_71d2345e_6328_11eb_87cc_c858c0612992row0_col0\" class=\"data row0 col0\" >2020-02-01 00:00:00</td>\n",
       "                        <td id=\"T_71d2345e_6328_11eb_87cc_c858c0612992row0_col1\" class=\"data row0 col1\" >$82,200,000.00</td>\n",
       "                        <td id=\"T_71d2345e_6328_11eb_87cc_c858c0612992row0_col2\" class=\"data row0 col2\" >$499,400,000.00</td>\n",
       "                        <td id=\"T_71d2345e_6328_11eb_87cc_c858c0612992row0_col3\" class=\"data row0 col3\" >$419,800,000.00</td>\n",
       "                        <td id=\"T_71d2345e_6328_11eb_87cc_c858c0612992row0_col4\" class=\"data row0 col4\" >$1,908,700,000.00</td>\n",
       "                        <td id=\"T_71d2345e_6328_11eb_87cc_c858c0612992row0_col5\" class=\"data row0 col5\" >$414,500,000.00</td>\n",
       "                        <td id=\"T_71d2345e_6328_11eb_87cc_c858c0612992row0_col6\" class=\"data row0 col6\" >$87,500,000.00</td>\n",
       "                        <td id=\"T_71d2345e_6328_11eb_87cc_c858c0612992row0_col7\" class=\"data row0 col7\" >$2,819,700,000.00</td>\n",
       "                        <td id=\"T_71d2345e_6328_11eb_87cc_c858c0612992row0_col8\" class=\"data row0 col8\" >$-60,900,000.00</td>\n",
       "                        <td id=\"T_71d2345e_6328_11eb_87cc_c858c0612992row0_col9\" class=\"data row0 col9\" >$2,208,200,000.00</td>\n",
       "                        <td id=\"T_71d2345e_6328_11eb_87cc_c858c0612992row0_col10\" class=\"data row0 col10\" >$6,466,000,000.00</td>\n",
       "            </tr>\n",
       "            <tr>\n",
       "                        <th id=\"T_71d2345e_6328_11eb_87cc_c858c0612992level0_row1\" class=\"row_heading level0 row1\" >1</th>\n",
       "                        <td id=\"T_71d2345e_6328_11eb_87cc_c858c0612992row1_col0\" class=\"data row1 col0\" >2019-02-02 00:00:00</td>\n",
       "                        <td id=\"T_71d2345e_6328_11eb_87cc_c858c0612992row1_col1\" class=\"data row1 col1\" >$419,500,000.00</td>\n",
       "                        <td id=\"T_71d2345e_6328_11eb_87cc_c858c0612992row1_col2\" class=\"data row1 col2\" >$1,624,400,000.00</td>\n",
       "                        <td id=\"T_71d2345e_6328_11eb_87cc_c858c0612992row1_col3\" class=\"data row1 col3\" >$820,800,000.00</td>\n",
       "                        <td id=\"T_71d2345e_6328_11eb_87cc_c858c0612992row1_col4\" class=\"data row1 col4\" >$2,308,100,000.00</td>\n",
       "                        <td id=\"T_71d2345e_6328_11eb_87cc_c858c0612992row1_col5\" class=\"data row1 col5\" >$325,100,000.00</td>\n",
       "                        <td id=\"T_71d2345e_6328_11eb_87cc_c858c0612992row1_col6\" class=\"data row1 col6\" >$102,100,000.00</td>\n",
       "                        <td id=\"T_71d2345e_6328_11eb_87cc_c858c0612992row1_col7\" class=\"data row1 col7\" >$4,044,300,000.00</td>\n",
       "                        <td id=\"T_71d2345e_6328_11eb_87cc_c858c0612992row1_col8\" class=\"data row1 col8\" >$635,500,000.00</td>\n",
       "                        <td id=\"T_71d2345e_6328_11eb_87cc_c858c0612992row1_col9\" class=\"data row1 col9\" >$2,708,100,000.00</td>\n",
       "                        <td id=\"T_71d2345e_6328_11eb_87cc_c858c0612992row1_col10\" class=\"data row1 col10\" >$8,285,300,000.00</td>\n",
       "            </tr>\n",
       "            <tr>\n",
       "                        <th id=\"T_71d2345e_6328_11eb_87cc_c858c0612992level0_row2\" class=\"row_heading level0 row2\" >2</th>\n",
       "                        <td id=\"T_71d2345e_6328_11eb_87cc_c858c0612992row2_col0\" class=\"data row2 col0\" >2018-02-03 00:00:00</td>\n",
       "                        <td id=\"T_71d2345e_6328_11eb_87cc_c858c0612992row2_col1\" class=\"data row2 col1\" >$677,100,000.00</td>\n",
       "                        <td id=\"T_71d2345e_6328_11eb_87cc_c858c0612992row2_col2\" class=\"data row2 col2\" >$864,400,000.00</td>\n",
       "                        <td id=\"T_71d2345e_6328_11eb_87cc_c858c0612992row2_col3\" class=\"data row2 col3\" >$817,900,000.00</td>\n",
       "                        <td id=\"T_71d2345e_6328_11eb_87cc_c858c0612992row2_col4\" class=\"data row2 col4\" >$3,040,100,000.00</td>\n",
       "                        <td id=\"T_71d2345e_6328_11eb_87cc_c858c0612992row2_col5\" class=\"data row2 col5\" >$434,900,000.00</td>\n",
       "                        <td id=\"T_71d2345e_6328_11eb_87cc_c858c0612992row2_col6\" class=\"data row2 col6\" >$101,400,000.00</td>\n",
       "                        <td id=\"T_71d2345e_6328_11eb_87cc_c858c0612992row2_col7\" class=\"data row2 col7\" >$5,041,600,000.00</td>\n",
       "                        <td id=\"T_71d2345e_6328_11eb_87cc_c858c0612992row2_col8\" class=\"data row2 col8\" >$-63,700,000.00</td>\n",
       "                        <td id=\"T_71d2345e_6328_11eb_87cc_c858c0612992row2_col9\" class=\"data row2 col9\" >$2,827,100,000.00</td>\n",
       "                        <td id=\"T_71d2345e_6328_11eb_87cc_c858c0612992row2_col10\" class=\"data row2 col10\" >$9,224,600,000.00</td>\n",
       "            </tr>\n",
       "            <tr>\n",
       "                        <th id=\"T_71d2345e_6328_11eb_87cc_c858c0612992level0_row3\" class=\"row_heading level0 row3\" >3</th>\n",
       "                        <td id=\"T_71d2345e_6328_11eb_87cc_c858c0612992row3_col0\" class=\"data row3 col0\" >2017-01-28 00:00:00</td>\n",
       "                        <td id=\"T_71d2345e_6328_11eb_87cc_c858c0612992row3_col1\" class=\"data row3 col1\" >$756,700,000.00</td>\n",
       "                        <td id=\"T_71d2345e_6328_11eb_87cc_c858c0612992row3_col2\" class=\"data row3 col2\" >$669,400,000.00</td>\n",
       "                        <td id=\"T_71d2345e_6328_11eb_87cc_c858c0612992row3_col3\" class=\"data row3 col3\" >$815,000,000.00</td>\n",
       "                        <td id=\"T_71d2345e_6328_11eb_87cc_c858c0612992row3_col4\" class=\"data row3 col4\" >$3,009,300,000.00</td>\n",
       "                        <td id=\"T_71d2345e_6328_11eb_87cc_c858c0612992row3_col5\" class=\"data row3 col5\" >$537,100,000.00</td>\n",
       "                        <td id=\"T_71d2345e_6328_11eb_87cc_c858c0612992row3_col6\" class=\"data row3 col6\" >$103,400,000.00</td>\n",
       "                        <td id=\"T_71d2345e_6328_11eb_87cc_c858c0612992row3_col7\" class=\"data row3 col7\" >$4,975,900,000.00</td>\n",
       "                        <td id=\"T_71d2345e_6328_11eb_87cc_c858c0612992row3_col8\" class=\"data row3 col8\" >$-578,000,000.00</td>\n",
       "                        <td id=\"T_71d2345e_6328_11eb_87cc_c858c0612992row3_col9\" class=\"data row3 col9\" >$2,721,800,000.00</td>\n",
       "                        <td id=\"T_71d2345e_6328_11eb_87cc_c858c0612992row3_col10\" class=\"data row3 col10\" >$8,607,900,000.00</td>\n",
       "            </tr>\n",
       "            <tr>\n",
       "                        <th id=\"T_71d2345e_6328_11eb_87cc_c858c0612992level0_row4\" class=\"row_heading level0 row4\" >4</th>\n",
       "                        <td id=\"T_71d2345e_6328_11eb_87cc_c858c0612992row4_col0\" class=\"data row4 col0\" >2016-01-30 00:00:00</td>\n",
       "                        <td id=\"T_71d2345e_6328_11eb_87cc_c858c0612992row4_col1\" class=\"data row4 col1\" >$809,400,000.00</td>\n",
       "                        <td id=\"T_71d2345e_6328_11eb_87cc_c858c0612992row4_col2\" class=\"data row4 col2\" >$450,400,000.00</td>\n",
       "                        <td id=\"T_71d2345e_6328_11eb_87cc_c858c0612992row4_col3\" class=\"data row4 col3\" >$350,400,000.00</td>\n",
       "                        <td id=\"T_71d2345e_6328_11eb_87cc_c858c0612992row4_col4\" class=\"data row4 col4\" >$2,918,300,000.00</td>\n",
       "                        <td id=\"T_71d2345e_6328_11eb_87cc_c858c0612992row4_col5\" class=\"data row4 col5\" >$656,800,000.00</td>\n",
       "                        <td id=\"T_71d2345e_6328_11eb_87cc_c858c0612992row4_col6\" class=\"data row4 col6\" >$106,000,000.00</td>\n",
       "                        <td id=\"T_71d2345e_6328_11eb_87cc_c858c0612992row4_col7\" class=\"data row4 col7\" >$4,334,900,000.00</td>\n",
       "                        <td id=\"T_71d2345e_6328_11eb_87cc_c858c0612992row4_col8\" class=\"data row4 col8\" >$-444,600,000.00</td>\n",
       "                        <td id=\"T_71d2345e_6328_11eb_87cc_c858c0612992row4_col9\" class=\"data row4 col9\" >$2,253,900,000.00</td>\n",
       "                        <td id=\"T_71d2345e_6328_11eb_87cc_c858c0612992row4_col10\" class=\"data row4 col10\" >$9,363,800,000.00</td>\n",
       "            </tr>\n",
       "    </tbody></table>"
      ],
      "text/plain": [
       "<pandas.io.formats.style.Styler at 0x223086cb670>"
      ]
     },
     "execution_count": 4,
     "metadata": {},
     "output_type": "execute_result"
    }
   ],
   "source": [
    "financials = gme['financials']\n",
    "financials_df = pd.DataFrame(financials, columns=['date','EBITDA','totalCash','totalDebt', 'grossProfit',\n",
    "                                                  'cashFlow','commonStock', 'totalAssets', \n",
    "                                                 'totalInvestingCashFlows', 'totalLiabilities','totalRevenue'])\n",
    "\n",
    "financials_df['date'] = pd.to_datetime(financials_df['date'], unit='ms')\n",
    "\n",
    "financials_df = financials_df.rename(columns={'date': 'Date',\n",
    "                                              'totalCash': 'Total Cash',\n",
    "                                              'totalDebt': 'Total Debt',\n",
    "                                              'totalRevenue':'Total Revenue',\n",
    "                                              'grossProfit': 'Gross Profit',\n",
    "                                              'cashFlow': 'Cash Flow',\n",
    "                                              'commonStock': 'Common Stock',\n",
    "                                              'totalAssets': 'Total Assets',\n",
    "                                              'totalInvestingCashFlows': 'Total Investment Cash Flow',\n",
    "                                              'totalLiabilities': 'Total Liabilities',\n",
    "                                              })\n",
    "\n",
    "financials_df.style.format({\n",
    "    'EBITDA': \"${:,.2f}\",\n",
    "    'Total Cash': \"${:,.2f}\",\n",
    "    'Total Debt': \"${:,.2f}\",\n",
    "    'Total Revenue': \"${:,.2f}\",\n",
    "    'Gross Profit': \"${:,.2f}\",\n",
    "    'Cash Flow': \"${:,.2f}\",\n",
    "    'Common Stock': \"${:,.2f}\",\n",
    "    'Total Assets': \"${:,.2f}\",\n",
    "    'Total Investment Cash Flow': \"${:,.2f}\",\n",
    "    'Total Liabilities': \"${:,.2f}\"})"
   ]
  },
  {
   "cell_type": "markdown",
   "metadata": {},
   "source": [
    "## Gamestop Stock Statistics"
   ]
  },
  {
   "cell_type": "code",
   "execution_count": 5,
   "metadata": {},
   "outputs": [
    {
     "name": "stdout",
     "output_type": "stream",
     "text": [
      "<Response [200]>\n"
     ]
    }
   ],
   "source": [
    "stat_query_url = url + '/stats?token=' + token\n",
    "print(requests.get(stat_query_url))"
   ]
  },
  {
   "cell_type": "code",
   "execution_count": 6,
   "metadata": {},
   "outputs": [
    {
     "data": {
      "text/html": [
       "<div>\n",
       "<style scoped>\n",
       "    .dataframe tbody tr th:only-of-type {\n",
       "        vertical-align: middle;\n",
       "    }\n",
       "\n",
       "    .dataframe tbody tr th {\n",
       "        vertical-align: top;\n",
       "    }\n",
       "\n",
       "    .dataframe thead th {\n",
       "        text-align: right;\n",
       "    }\n",
       "</style>\n",
       "<table border=\"1\" class=\"dataframe\">\n",
       "  <thead>\n",
       "    <tr style=\"text-align: right;\">\n",
       "      <th></th>\n",
       "      <th>marketcap</th>\n",
       "      <th>week52high</th>\n",
       "      <th>week52low</th>\n",
       "      <th>week52change</th>\n",
       "      <th>sharesOutstanding</th>\n",
       "      <th>avg10Volume</th>\n",
       "      <th>avg30Volume</th>\n",
       "      <th>day200MovingAvg</th>\n",
       "      <th>day50MovingAvg</th>\n",
       "      <th>ttmEPS</th>\n",
       "      <th>...</th>\n",
       "      <th>maxChangePercent</th>\n",
       "      <th>year5ChangePercent</th>\n",
       "      <th>year2ChangePercent</th>\n",
       "      <th>year1ChangePercent</th>\n",
       "      <th>ytdChangePercent</th>\n",
       "      <th>month6ChangePercent</th>\n",
       "      <th>month3ChangePercent</th>\n",
       "      <th>month1ChangePercent</th>\n",
       "      <th>day30ChangePercent</th>\n",
       "      <th>day5ChangePercent</th>\n",
       "    </tr>\n",
       "    <tr>\n",
       "      <th>companyName</th>\n",
       "      <th></th>\n",
       "      <th></th>\n",
       "      <th></th>\n",
       "      <th></th>\n",
       "      <th></th>\n",
       "      <th></th>\n",
       "      <th></th>\n",
       "      <th></th>\n",
       "      <th></th>\n",
       "      <th></th>\n",
       "      <th></th>\n",
       "      <th></th>\n",
       "      <th></th>\n",
       "      <th></th>\n",
       "      <th></th>\n",
       "      <th></th>\n",
       "      <th></th>\n",
       "      <th></th>\n",
       "      <th></th>\n",
       "      <th></th>\n",
       "      <th></th>\n",
       "    </tr>\n",
       "  </thead>\n",
       "  <tbody>\n",
       "    <tr>\n",
       "      <th>Gamestop Corporation</th>\n",
       "      <td>22667762000</td>\n",
       "      <td>347.51</td>\n",
       "      <td>2.8</td>\n",
       "      <td>83.635417</td>\n",
       "      <td>69746960</td>\n",
       "      <td>116211171</td>\n",
       "      <td>66441953</td>\n",
       "      <td>19.75</td>\n",
       "      <td>54.31</td>\n",
       "      <td>-4.23</td>\n",
       "      <td>...</td>\n",
       "      <td>34.267053</td>\n",
       "      <td>15.066759</td>\n",
       "      <td>28.78973</td>\n",
       "      <td>77.692494</td>\n",
       "      <td>16.250531</td>\n",
       "      <td>79.049261</td>\n",
       "      <td>26.706735</td>\n",
       "      <td>15.769866</td>\n",
       "      <td>15.874351</td>\n",
       "      <td>3.999231</td>\n",
       "    </tr>\n",
       "  </tbody>\n",
       "</table>\n",
       "<p>1 rows × 22 columns</p>\n",
       "</div>"
      ],
      "text/plain": [
       "                        marketcap  week52high  week52low  week52change  \\\n",
       "companyName                                                              \n",
       "Gamestop Corporation  22667762000      347.51        2.8     83.635417   \n",
       "\n",
       "                      sharesOutstanding  avg10Volume  avg30Volume  \\\n",
       "companyName                                                         \n",
       "Gamestop Corporation           69746960    116211171     66441953   \n",
       "\n",
       "                      day200MovingAvg  day50MovingAvg  ttmEPS  ...  \\\n",
       "companyName                                                    ...   \n",
       "Gamestop Corporation            19.75           54.31   -4.23  ...   \n",
       "\n",
       "                      maxChangePercent  year5ChangePercent  \\\n",
       "companyName                                                  \n",
       "Gamestop Corporation         34.267053           15.066759   \n",
       "\n",
       "                      year2ChangePercent  year1ChangePercent  \\\n",
       "companyName                                                    \n",
       "Gamestop Corporation            28.78973           77.692494   \n",
       "\n",
       "                      ytdChangePercent  month6ChangePercent  \\\n",
       "companyName                                                   \n",
       "Gamestop Corporation         16.250531            79.049261   \n",
       "\n",
       "                      month3ChangePercent  month1ChangePercent  \\\n",
       "companyName                                                      \n",
       "Gamestop Corporation            26.706735            15.769866   \n",
       "\n",
       "                      day30ChangePercent  day5ChangePercent  \n",
       "companyName                                                  \n",
       "Gamestop Corporation           15.874351           3.999231  \n",
       "\n",
       "[1 rows x 22 columns]"
      ]
     },
     "execution_count": 6,
     "metadata": {},
     "output_type": "execute_result"
    }
   ],
   "source": [
    "response = requests.get(stat_query_url)\n",
    "gme_stat = response.json()\n",
    "gme_stats_df = pd.DataFrame([gme_stat]).set_index('companyName').drop(columns=['float', 'employees', 'ttmDividendRate',\n",
    "                                                                              'dividendYield','nextDividendDate', 'exDividendDate',\n",
    "                                                                              'nextEarningsDate'])\n",
    "gme_stats_df"
   ]
  },
  {
   "cell_type": "markdown",
   "metadata": {},
   "source": [
    "## Gamestop Largest Trades"
   ]
  },
  {
   "cell_type": "code",
   "execution_count": 9,
   "metadata": {},
   "outputs": [
    {
     "name": "stdout",
     "output_type": "stream",
     "text": [
      "<Response [200]>\n"
     ]
    }
   ],
   "source": [
    "trade_query_url = url + '/largest-trades?token=' + token\n",
    "print(requests.get(trade_query_url))"
   ]
  },
  {
   "cell_type": "code",
   "execution_count": 10,
   "metadata": {},
   "outputs": [
    {
     "data": {
      "text/html": [
       "<div>\n",
       "<style scoped>\n",
       "    .dataframe tbody tr th:only-of-type {\n",
       "        vertical-align: middle;\n",
       "    }\n",
       "\n",
       "    .dataframe tbody tr th {\n",
       "        vertical-align: top;\n",
       "    }\n",
       "\n",
       "    .dataframe thead th {\n",
       "        text-align: right;\n",
       "    }\n",
       "</style>\n",
       "<table border=\"1\" class=\"dataframe\">\n",
       "  <thead>\n",
       "    <tr style=\"text-align: right;\">\n",
       "      <th></th>\n",
       "    </tr>\n",
       "  </thead>\n",
       "  <tbody>\n",
       "  </tbody>\n",
       "</table>\n",
       "</div>"
      ],
      "text/plain": [
       "Empty DataFrame\n",
       "Columns: []\n",
       "Index: []"
      ]
     },
     "execution_count": 10,
     "metadata": {},
     "output_type": "execute_result"
    }
   ],
   "source": [
    "response = requests.get(trade_query_url)\n",
    "gme_trade = response.json()\n",
    "pd.DataFrame(gme_trade)"
   ]
  },
  {
   "cell_type": "markdown",
   "metadata": {},
   "source": [
    "## GameStop Halt"
   ]
  },
  {
   "cell_type": "code",
   "execution_count": 12,
   "metadata": {},
   "outputs": [
    {
     "name": "stdout",
     "output_type": "stream",
     "text": [
      "<Response [404]>\n"
     ]
    }
   ],
   "source": [
    "halt_query_url = 'https://cloud.iexapis.com/stable/stats/op-halt-status?symbols=GME&token=' + token\n",
    "print(requests.get(halt_query_url))"
   ]
  },
  {
   "cell_type": "code",
   "execution_count": null,
   "metadata": {},
   "outputs": [],
   "source": []
  }
 ],
 "metadata": {
  "kernelspec": {
   "display_name": "Python 3",
   "language": "python",
   "name": "python3"
  },
  "language_info": {
   "codemirror_mode": {
    "name": "ipython",
    "version": 3
   },
   "file_extension": ".py",
   "mimetype": "text/x-python",
   "name": "python",
   "nbconvert_exporter": "python",
   "pygments_lexer": "ipython3",
   "version": "3.8.5"
  }
 },
 "nbformat": 4,
 "nbformat_minor": 4
}
