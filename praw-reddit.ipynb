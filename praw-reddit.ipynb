{
 "cells": [
  {
   "cell_type": "code",
   "execution_count": null,
   "metadata": {},
   "outputs": [],
   "source": [
    "# Install praw\n",
    "\n",
    "!pip install praw\n",
    "\n",
    "\n",
    "# Documentation about reddit API is here:\n",
    "# https://www.reddit.com/dev/api/"
   ]
  },
  {
   "cell_type": "code",
   "execution_count": 14,
   "metadata": {},
   "outputs": [],
   "source": [
    "# Dependencies\n",
    "\n",
    "import praw\n",
    "\n",
    "\n",
    "# Requires seperate config python file with keys\n",
    "\n",
    "# Instructions to generate keys are here:\n",
    "# https://youtu.be/Q5u6MDQAG7I\n",
    "\n",
    "from config_reddit import client_id, client_secret, password, user_agent\n"
   ]
  },
  {
   "cell_type": "code",
   "execution_count": 15,
   "metadata": {},
   "outputs": [
    {
     "name": "stdout",
     "output_type": "stream",
     "text": [
      "True\n"
     ]
    }
   ],
   "source": [
    "# Create reddit instance\n",
    "\n",
    "reddit = praw.Reddit(\n",
    "    client_id = client_id, \n",
    "    client_secret = client_secret,\n",
    "    password = password, \n",
    "    user_agent = user_agent)\n",
    "\n",
    "\n",
    "# Confirm read only status (should print True)\n",
    "print(reddit.read_only)"
   ]
  },
  {
   "cell_type": "code",
   "execution_count": 32,
   "metadata": {},
   "outputs": [
    {
     "name": "stdout",
     "output_type": "stream",
     "text": [
      "GME TO THE FUKING MOON. Upvote if holding till 1K\n",
      "GME Megathread\n",
      "The GME Afterhours Thread: Part 4.20 on 27 January\n",
      "The GME Thread, Part 2, for January 27, 2021\n",
      "GME Containment Zone 1 for 28 January\n",
      "The GME Thread, Part 3.14, for January 27, 2021\n",
      "The GME Thread Part 1 for January 26, 2021\n",
      "The GME Thread Part 3 for January 26, 2020\n",
      "The GME Thread for January 27, 2020\n",
      "GME YOLO update — Jan 27 2021 --------------------------------------- guess i need 102 characters in title now\n",
      "GME Thoughts, YOLOs, Gains, Stonk Updates, 🚀🚀🚀: they all go here. Jan 25 edition.\n",
      "AMERICANS CAN'T BUY GME, BB?!?! HELP IS ON THE WAY!! CANADIANS!! WE HAVE NO SUCH RESTRICTIONS!! BUY ALL THE GME AND BB YOU CAN!!!\n",
      "GMREEEEEEEEEEEE Containment Thread - GME shitposts go here\n",
      "The GME Thread, Part 2.1, for January 27, 2021\n",
      "The GME Thread Part 2 for January 26, 2021\n",
      "GME Megathread Part 2\n",
      "GME: Gamestonk Thread\n",
      "MAKE AMC THE NEXT GME??\n",
      "GME Containment Zone 2 for January 28, 2021\n",
      "GME YOLO update — Jan 28 2021\n",
      "UPVOTE! Dont lose faith plenty of orders on AMC havent been filled, this thing is going to 🚀🚀🚀🚀 keep pushing same thing happened with GME!\n",
      "GME YOLO update — Jan 26 2021\n",
      "GME Megathread IV for January 28th, 2021\n",
      "What do you guys think about AMC? Can it be the next GME?\n",
      "GME Thread: The Wreckoning\n",
      "GME Megathread - Lemon Party 2: Electric Boogaloo\n",
      "GME YOLO update — Jan 25 2021\n",
      "GME YOLO update — Jan 22 2021\n",
      "Don’t be scared by the drop in $BB $GME etc. Hedge Funds trade after hours to scare y’all off... KEEP BUYING AND HOLDING 🚀🚀\n",
      "Companies try to prevent people from trading GME and AMC\n",
      "GME Endgame\n",
      "GME Dedicated Thread - Breaking: CNBC engages in market manipulation - lies about Melvin Capital having already covered positions\n",
      "GMREEEEEEEEEEkend Containment Thread - GME shitposts go here\n",
      "Citadel reloaded their shorts before they told Robinhood to stop trading $GME\n",
      "IM NOT SELLING THIS UNTIL AT LEAST $1000+ GME 🚀🚀🚀🚀🚀🚀 BUCKLE THE FUCK UP\n",
      "Can I get a flair for buying GME at the literal top ($155.29)?\n",
      "6M in GameStop GME. Following through. Can’t stop, won’t stop, lift off\n",
      "ITS NEVER TOO LATE TO JOIN $BB $GME OR $AMC🚀🚀BUY AND HOLD🚀🚀🚀🚀\n",
      "Honorary WSB Autist award goes to Chamath Palihapitiya! He is out here defending us retail investors and calling out hedge funds for their manipulation and bullshit practices that have left retail holding the bag for YEARS. GME going🚀🚀🚀🚀🚀🚀\n",
      "I just bought $5,000 in $GME. I would not have done this if the brokerages didn't try to manipulate the market.\n",
      "GME EndGame part 3: A new opponent enters the ring\n",
      "Robinhood and other brokers literally blocking purchase of $GME, $NOK, $BB, $AMC; allow sells\n",
      "Melvin is down another 25% on $GME\n",
      "YOU CAN STILL BUY GME & BB on WeBull, eTrade, fidelity, and others, post your platform of choice and keep those 💎🙌🏻 strong!\n",
      "How Friday's GME gamma squeeze may trigger a short squeeze on Monday and Tuesday\n",
      "AT THIS RATE $5,000 IS GOING TO BE NOTHING FOR GME upvote for visibility\n",
      "Someone is actively driving attention to non-GME posts on reddit. Don't be fooled comrades. 💎🙌🚀🚀🚀\n",
      "I have hit a million! GME to the moon!🚀🚀🚀🚀🚀🚀🚀🚀🚀🚀🚀🚀🚀🚀🚀🚀🚀🚀🚀🚀🚀🚀🚀🚀🚀🚀🚀🚀🚀🚀\n",
      "Everyone tomorrow when the market opens. AKA GME.\n",
      "Curious why Papa Elon is shilling $GME? It’s because Melvin Capital shorted $TSLA for years and bragged about it.\n",
      "Robinhood Announces You Can No Longer Open GME/AMC Positions For Friday. 😱\n",
      "$500 Donation For Every $50 Increase in GME Price. $1000 Donation To St Jude So Far 💎🙌🚀\n",
      "My gf and I are holding GME from South Korea. Hold the line!!\n",
      "GME YOLO update — Jan 13 2021\n",
      "First 20 bagger! GME to 100 EOW\n",
      "Me selling all my NOK and AMC to buy GME\n",
      "Founder of Reddit tells Chamath Palihapitiya to buy $GME 🚀🚀🚀\n",
      "Cramer goes off on Analyst and sides with us on GME :)\n",
      "GME - Listen to this german guy: The most important thing until Friday.\n",
      "The GME Journey Doesn't End Here\n",
      "GME is about more than just money, GME is about sending a message\n",
      "GME YOLO update — Jan 19 2021\n",
      "$NOK $BB $BBBY $GME $AMC $EXPR\n",
      "People will try to gaslight you into believing that playing $GME is wrong or something to be ashamed of. But keep the following in mind...\n",
      "If $GME reaches $2,000 per share, our king u/DeepFuckingValue will be worth more than GME's market cap ($260M) when he first bought in (July 2020)\n",
      "GME price is too damn low !\n",
      "WSB community holding onto $GME til $1000 against an army of hedge fund managers\n",
      "Goldman Sachs alludes to GME & WSB\n",
      "(GME DD) One DD to rule them. One DD to find them. One DD to to bring them all and in the darkness bind them.\n",
      "$GME INFINITY WAR Update from the front lines - belligerents, casualties, bystanders, fronts - BIG DAY TODAY😡🚀🌙🥜\n",
      "GME - WATCH OUT\n",
      "AMC, BB AND MOST IMPORTANTLY GME WILL BE BACK! HOLD THE LINE 💎🙌\n",
      "WeBull Opened for Trading GME and AMC!\n",
      "Robinhood, which previously sold user information to Citadel, is now blocking buy orders of GME,AMC and more, engaging in blatant market manipulation.\n",
      "GME Infinite Gamma Squeeze | Gap In Option Market Structure | Once In a Lifetime Opportunity\n",
      "The Importance of whats happening with GME\n",
      "NY Times on our GME run: \"Propelled by a mix of greed and boredom...\"\n",
      "Recording of GME rocket lift off. Kramer losing his mind.\n",
      "GameStop (GME) halted at $72.80\n",
      "The $GME and r/wsb scenario explained by Margot Robbie in a bathtub\n",
      "Last post got removed. Yesterday I posted a $2.5MM LOSS on GME but 💎🙌ed. Today I’m posting a $7.8MM GAIN. Still holding.\n",
      "Watching everyone post millions in Gain Porn as I continue to hold my 15 GME shares.\n",
      "Robinhood won’t let me buy 1 share of GME?!\n",
      "You guys convinced me, sold all my BB and re-YOLOing GME #thankschamanth\n",
      "No Shame - All in $GME. -If this baby finishes above a grand by the end of Feb - I will personally fly down to NY and lick the ball of the Wall Street bull. You have my promise. I fucking love you guys\n",
      "Ode to GME. Holding my 14.56 shares.\n",
      "I'm the guy who took out a 10k GME loan last week!\n",
      "A hedge fund managers perspective on GME\n",
      "Just put $200,000 in GME shares 🚀\n",
      "$BB At The $GME Refuelling station 🚀🚀🚀\n",
      "GME YOLO update — Jan 14 2021\n",
      "I'm in tears, already life changing money is turning into destiny changing money! 10k->750k GME STILL HOLDING 💎 🙌 🚀\n",
      "Stop trying to use WSB as your personal pump and dump scheme. What is happening to GME hasn’t happened in 12 years and isn’t the same as anything else right now.\n",
      "Looks like the transfer of wealth that was promised by Bitcoin already started here on Reddit. /r/wallstreet bets is currently robbing Wall Street institutional investors on GME stocks and squeezing all of their short positions. It is the biggest WS money heist in history and it ain't even over.\n",
      "Explanation for $GME (GameStop) part 2. (I wouldn't be surprised if $GME cracks $1,000+ by Friday. This is definitely a combination of a gamma squeeze & an infinite short squeeze. Robinhood & Reddit retail traders are armed with financial weapons of mass destruction, aka leveraged options)\n",
      "$GME and Chill\n",
      "GME short interest remains at 139% (Bloomberg) - the short squeeze has not even started\n",
      "Wall Street has decided you're not responsible enough to buy GME. This is why we need DeFi.\n",
      "If GME hits 500 dollars I'm going to donate a grand from my small 14 shares to Involve MN, an organization to help homeless people in the Minneapolis area. I would encourage others to do good as well with a portion of their earnings.\n",
      "Citadel has blocked all trading partners (Such as Robinhood) to trade GME, BB and others. As over 40% of all trades in the US market are via Citadel, they are artificially limiting the supply balance to reduce these stocks in their favour.\n",
      "100\n"
     ]
    }
   ],
   "source": [
    "# Print titles with term $GME for every subreddit (\"all\")\n",
    "\n",
    "counter_gme = 0\n",
    "for submission in reddit.subreddit(\"all\").search(\"$GME\", time_filter=\"month\"):\n",
    "    counter_gme += 1\n",
    "    print(submission.title)\n",
    "\n",
    "print(counter_gme)"
   ]
  },
  {
   "cell_type": "code",
   "execution_count": 34,
   "metadata": {},
   "outputs": [
    {
     "name": "stdout",
     "output_type": "stream",
     "text": [
      "100\n",
      "['GME TO THE FUKING MOON. Upvote if holding till 1K', 'GME Megathread', 'The GME Afterhours Thread: Part 4.20 on 27 January', 'The GME Thread, Part 2, for January 27, 2021', 'GME Containment Zone 1 for 28 January', 'The GME Thread, Part 3.14, for January 27, 2021', 'The GME Thread Part 1 for January 26, 2021', 'The GME Thread Part 3 for January 26, 2020', 'The GME Thread for January 27, 2020', 'GME YOLO update — Jan 27 2021 --------------------------------------- guess i need 102 characters in title now', 'GME Thoughts, YOLOs, Gains, Stonk Updates, 🚀🚀🚀: they all go here. Jan 25 edition.', \"AMERICANS CAN'T BUY GME, BB?!?! HELP IS ON THE WAY!! CANADIANS!! WE HAVE NO SUCH RESTRICTIONS!! BUY ALL THE GME AND BB YOU CAN!!!\", 'GMREEEEEEEEEEEE Containment Thread - GME shitposts go here', 'The GME Thread, Part 2.1, for January 27, 2021', 'The GME Thread Part 2 for January 26, 2021', 'GME Megathread Part 2', 'GME: Gamestonk Thread', 'MAKE AMC THE NEXT GME??', 'GME Containment Zone 2 for January 28, 2021', 'GME YOLO update — Jan 28 2021', 'UPVOTE! Dont lose faith plenty of orders on AMC havent been filled, this thing is going to 🚀🚀🚀🚀 keep pushing same thing happened with GME!', 'GME YOLO update — Jan 26 2021', 'GME Megathread IV for January 28th, 2021', 'What do you guys think about AMC? Can it be the next GME?', 'GME Thread: The Wreckoning', 'GME Megathread - Lemon Party 2: Electric Boogaloo', 'GME YOLO update — Jan 25 2021', 'GME YOLO update — Jan 22 2021', 'Don’t be scared by the drop in $BB $GME etc. Hedge Funds trade after hours to scare y’all off... KEEP BUYING AND HOLDING 🚀🚀', 'Companies try to prevent people from trading GME and AMC', 'GME Endgame', 'GME Dedicated Thread - Breaking: CNBC engages in market manipulation - lies about Melvin Capital having already covered positions', 'GMREEEEEEEEEEkend Containment Thread - GME shitposts go here', 'Citadel reloaded their shorts before they told Robinhood to stop trading $GME', 'IM NOT SELLING THIS UNTIL AT LEAST $1000+ GME 🚀🚀🚀🚀🚀🚀 BUCKLE THE FUCK UP', 'Can I get a flair for buying GME at the literal top ($155.29)?', '6M in GameStop GME. Following through. Can’t stop, won’t stop, lift off', 'ITS NEVER TOO LATE TO JOIN $BB $GME OR $AMC🚀🚀BUY AND HOLD🚀🚀🚀🚀', 'Honorary WSB Autist award goes to Chamath Palihapitiya! He is out here defending us retail investors and calling out hedge funds for their manipulation and bullshit practices that have left retail holding the bag for YEARS. GME going🚀🚀🚀🚀🚀🚀', \"I just bought $5,000 in $GME. I would not have done this if the brokerages didn't try to manipulate the market.\", 'GME EndGame part 3: A new opponent enters the ring', 'Robinhood and other brokers literally blocking purchase of $GME, $NOK, $BB, $AMC; allow sells', 'Melvin is down another 25% on $GME', 'YOU CAN STILL BUY GME & BB on WeBull, eTrade, fidelity, and others, post your platform of choice and keep those 💎🙌🏻 strong!', \"How Friday's GME gamma squeeze may trigger a short squeeze on Monday and Tuesday\", 'AT THIS RATE $5,000 IS GOING TO BE NOTHING FOR GME upvote for visibility', \"Someone is actively driving attention to non-GME posts on reddit. Don't be fooled comrades. 💎🙌🚀🚀🚀\", 'I have hit a million! GME to the moon!🚀🚀🚀🚀🚀🚀🚀🚀🚀🚀🚀🚀🚀🚀🚀🚀🚀🚀🚀🚀🚀🚀🚀🚀🚀🚀🚀🚀🚀🚀', 'Everyone tomorrow when the market opens. AKA GME.', 'Curious why Papa Elon is shilling $GME? It’s because Melvin Capital shorted $TSLA for years and bragged about it.', 'Robinhood Announces You Can No Longer Open GME/AMC Positions For Friday. 😱', '$500 Donation For Every $50 Increase in GME Price. $1000 Donation To St Jude So Far 💎🙌🚀', 'My gf and I are holding GME from South Korea. Hold the line!!', 'GME YOLO update — Jan 13 2021', 'First 20 bagger! GME to 100 EOW', 'Me selling all my NOK and AMC to buy GME', 'Founder of Reddit tells Chamath Palihapitiya to buy $GME 🚀🚀🚀', 'Cramer goes off on Analyst and sides with us on GME :)', 'GME - Listen to this german guy: The most important thing until Friday.', \"The GME Journey Doesn't End Here\", 'GME is about more than just money, GME is about sending a message', 'GME YOLO update — Jan 19 2021', '$NOK $BB $BBBY $GME $AMC $EXPR', 'People will try to gaslight you into believing that playing $GME is wrong or something to be ashamed of. But keep the following in mind...', \"If $GME reaches $2,000 per share, our king u/DeepFuckingValue will be worth more than GME's market cap ($260M) when he first bought in (July 2020)\", 'GME price is too damn low !', 'WSB community holding onto $GME til $1000 against an army of hedge fund managers', 'Goldman Sachs alludes to GME & WSB', '(GME DD) One DD to rule them. One DD to find them. One DD to to bring them all and in the darkness bind them.', '$GME INFINITY WAR Update from the front lines - belligerents, casualties, bystanders, fronts - BIG DAY TODAY😡🚀🌙🥜', 'GME - WATCH OUT', 'AMC, BB AND MOST IMPORTANTLY GME WILL BE BACK! HOLD THE LINE 💎🙌', 'WeBull Opened for Trading GME and AMC!', 'Robinhood, which previously sold user information to Citadel, is now blocking buy orders of GME,AMC and more, engaging in blatant market manipulation.', 'GME Infinite Gamma Squeeze | Gap In Option Market Structure | Once In a Lifetime Opportunity', 'The Importance of whats happening with GME', 'NY Times on our GME run: \"Propelled by a mix of greed and boredom...\"', 'Recording of GME rocket lift off. Kramer losing his mind.', 'GameStop (GME) halted at $72.80', 'The $GME and r/wsb scenario explained by Margot Robbie in a bathtub', 'Last post got removed. Yesterday I posted a $2.5MM LOSS on GME but 💎🙌ed. Today I’m posting a $7.8MM GAIN. Still holding.', 'Watching everyone post millions in Gain Porn as I continue to hold my 15 GME shares.', 'Robinhood won’t let me buy 1 share of GME?!', 'You guys convinced me, sold all my BB and re-YOLOing GME #thankschamanth', 'No Shame - All in $GME. -If this baby finishes above a grand by the end of Feb - I will personally fly down to NY and lick the ball of the Wall Street bull. You have my promise. I fucking love you guys', 'Ode to GME. Holding my 14.56 shares.', \"I'm the guy who took out a 10k GME loan last week!\", 'A hedge fund managers perspective on GME', 'Just put $200,000 in GME shares 🚀', '$BB At The $GME Refuelling station 🚀🚀🚀', 'GME YOLO update — Jan 14 2021', \"I'm in tears, already life changing money is turning into destiny changing money! 10k->750k GME STILL HOLDING 💎 🙌 🚀\", 'Stop trying to use WSB as your personal pump and dump scheme. What is happening to GME hasn’t happened in 12 years and isn’t the same as anything else right now.', \"Looks like the transfer of wealth that was promised by Bitcoin already started here on Reddit. /r/wallstreet bets is currently robbing Wall Street institutional investors on GME stocks and squeezing all of their short positions. It is the biggest WS money heist in history and it ain't even over.\", \"Explanation for $GME (GameStop) part 2. (I wouldn't be surprised if $GME cracks $1,000+ by Friday. This is definitely a combination of a gamma squeeze & an infinite short squeeze. Robinhood & Reddit retail traders are armed with financial weapons of mass destruction, aka leveraged options)\", '$GME and Chill', 'GME short interest remains at 139% (Bloomberg) - the short squeeze has not even started', \"Wall Street has decided you're not responsible enough to buy GME. This is why we need DeFi.\", \"If GME hits 500 dollars I'm going to donate a grand from my small 14 shares to Involve MN, an organization to help homeless people in the Minneapolis area. I would encourage others to do good as well with a portion of their earnings.\", 'Citadel has blocked all trading partners (Such as Robinhood) to trade GME, BB and others. As over 40% of all trades in the US market are via Citadel, they are artificially limiting the supply balance to reduce these stocks in their favour.']\n"
     ]
    }
   ],
   "source": [
    "# Count titles with search term $GME\n",
    "\n",
    "# Appears to be a limit of 100\n",
    "\n",
    "titles = []\n",
    "\n",
    "for submission in reddit.subreddit(\"all\").search(\"$GME\", time_filter=\"month\"):\n",
    "    titles.append(submission.title)\n",
    "\n",
    "print(len(titles))\n",
    "print(titles)"
   ]
  },
  {
   "cell_type": "code",
   "execution_count": null,
   "metadata": {},
   "outputs": [],
   "source": []
  },
  {
   "cell_type": "code",
   "execution_count": null,
   "metadata": {},
   "outputs": [],
   "source": []
  },
  {
   "cell_type": "code",
   "execution_count": null,
   "metadata": {},
   "outputs": [],
   "source": [
    "\n"
   ]
  }
 ],
 "metadata": {
  "kernelspec": {
   "display_name": "Python 3",
   "language": "python",
   "name": "python3"
  },
  "language_info": {
   "codemirror_mode": {
    "name": "ipython",
    "version": 3
   },
   "file_extension": ".py",
   "mimetype": "text/x-python",
   "name": "python",
   "nbconvert_exporter": "python",
   "pygments_lexer": "ipython3",
   "version": "3.8.5"
  }
 },
 "nbformat": 4,
 "nbformat_minor": 4
}
