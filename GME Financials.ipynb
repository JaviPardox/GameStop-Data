{
 "cells": [
  {
   "cell_type": "markdown",
   "metadata": {},
   "source": [
    "# Gamestop"
   ]
  },
  {
   "cell_type": "code",
   "execution_count": 1,
   "metadata": {},
   "outputs": [],
   "source": [
    "import requests\n",
    "import json\n",
    "import pandas as pd\n",
    "import matplotlib.pyplot as plt\n",
    "import datetime\n",
    "from datetime import datetime\n",
    "import numpy as np\n",
    "import matplotlib.ticker as tick"
   ]
  },
  {
   "cell_type": "code",
   "execution_count": 2,
   "metadata": {},
   "outputs": [
    {
     "name": "stdout",
     "output_type": "stream",
     "text": [
      "<Response [200]>\n"
     ]
    }
   ],
   "source": [
    "# url = 'https://cloud.iexapis.com/stable/stock/GME/financials/5?token=sk_a6ef19bab2c5459093f4aaac416b6219&period=annual'\n",
    "url = 'https://cloud.iexapis.com/stable/stock/GME/'\n",
    "token = 'sk_a6ef19bab2c5459093f4aaac416b6219'\n",
    "query_url = url + 'financials/5?token=' + token + '&period=annual'\n",
    "print(requests.get(query_url))"
   ]
  },
  {
   "cell_type": "markdown",
   "metadata": {},
   "source": [
    "## GameStop Financials"
   ]
  },
  {
   "cell_type": "code",
   "execution_count": 3,
   "metadata": {},
   "outputs": [],
   "source": [
    "response = requests.get(query_url)\n",
    "gme = response.json()"
   ]
  },
  {
   "cell_type": "code",
   "execution_count": 5,
   "metadata": {},
   "outputs": [
    {
     "data": {
      "text/html": [
       "<style  type=\"text/css\" >\n",
       "</style><table id=\"T_5e86352e_683a_11eb_8797_1e00a2213542\" ><thead>    <tr>        <th class=\"blank level0\" ></th>        <th class=\"col_heading level0 col0\" >EBITDA</th>        <th class=\"col_heading level0 col1\" >Total Cash</th>        <th class=\"col_heading level0 col2\" >Total Debt</th>        <th class=\"col_heading level0 col3\" >Gross Profit</th>        <th class=\"col_heading level0 col4\" >Cash Flow</th>        <th class=\"col_heading level0 col5\" >Common Stock</th>        <th class=\"col_heading level0 col6\" >Total Assets</th>        <th class=\"col_heading level0 col7\" >Total Investment Cash Flow</th>        <th class=\"col_heading level0 col8\" >Total Liabilities</th>        <th class=\"col_heading level0 col9\" >Total Revenue</th>        <th class=\"col_heading level0 col10\" >Year</th>    </tr>    <tr>        <th class=\"index_name level0\" >Date</th>        <th class=\"blank\" ></th>        <th class=\"blank\" ></th>        <th class=\"blank\" ></th>        <th class=\"blank\" ></th>        <th class=\"blank\" ></th>        <th class=\"blank\" ></th>        <th class=\"blank\" ></th>        <th class=\"blank\" ></th>        <th class=\"blank\" ></th>        <th class=\"blank\" ></th>        <th class=\"blank\" ></th>    </tr></thead><tbody>\n",
       "                <tr>\n",
       "                        <th id=\"T_5e86352e_683a_11eb_8797_1e00a2213542level0_row0\" class=\"row_heading level0 row0\" >2020-02-01 00:00:00</th>\n",
       "                        <td id=\"T_5e86352e_683a_11eb_8797_1e00a2213542row0_col0\" class=\"data row0 col0\" >$82,200,000.00</td>\n",
       "                        <td id=\"T_5e86352e_683a_11eb_8797_1e00a2213542row0_col1\" class=\"data row0 col1\" >$499,400,000.00</td>\n",
       "                        <td id=\"T_5e86352e_683a_11eb_8797_1e00a2213542row0_col2\" class=\"data row0 col2\" >$419,800,000.00</td>\n",
       "                        <td id=\"T_5e86352e_683a_11eb_8797_1e00a2213542row0_col3\" class=\"data row0 col3\" >$1,908,700,000.00</td>\n",
       "                        <td id=\"T_5e86352e_683a_11eb_8797_1e00a2213542row0_col4\" class=\"data row0 col4\" >$414,500,000.00</td>\n",
       "                        <td id=\"T_5e86352e_683a_11eb_8797_1e00a2213542row0_col5\" class=\"data row0 col5\" >$87,500,000.00</td>\n",
       "                        <td id=\"T_5e86352e_683a_11eb_8797_1e00a2213542row0_col6\" class=\"data row0 col6\" >$2,819,700,000.00</td>\n",
       "                        <td id=\"T_5e86352e_683a_11eb_8797_1e00a2213542row0_col7\" class=\"data row0 col7\" >$-60,900,000.00</td>\n",
       "                        <td id=\"T_5e86352e_683a_11eb_8797_1e00a2213542row0_col8\" class=\"data row0 col8\" >$2,208,200,000.00</td>\n",
       "                        <td id=\"T_5e86352e_683a_11eb_8797_1e00a2213542row0_col9\" class=\"data row0 col9\" >$6,466,000,000.00</td>\n",
       "                        <td id=\"T_5e86352e_683a_11eb_8797_1e00a2213542row0_col10\" class=\"data row0 col10\" >2020</td>\n",
       "            </tr>\n",
       "            <tr>\n",
       "                        <th id=\"T_5e86352e_683a_11eb_8797_1e00a2213542level0_row1\" class=\"row_heading level0 row1\" >2019-02-02 00:00:00</th>\n",
       "                        <td id=\"T_5e86352e_683a_11eb_8797_1e00a2213542row1_col0\" class=\"data row1 col0\" >$419,500,000.00</td>\n",
       "                        <td id=\"T_5e86352e_683a_11eb_8797_1e00a2213542row1_col1\" class=\"data row1 col1\" >$1,624,400,000.00</td>\n",
       "                        <td id=\"T_5e86352e_683a_11eb_8797_1e00a2213542row1_col2\" class=\"data row1 col2\" >$820,800,000.00</td>\n",
       "                        <td id=\"T_5e86352e_683a_11eb_8797_1e00a2213542row1_col3\" class=\"data row1 col3\" >$2,308,100,000.00</td>\n",
       "                        <td id=\"T_5e86352e_683a_11eb_8797_1e00a2213542row1_col4\" class=\"data row1 col4\" >$325,100,000.00</td>\n",
       "                        <td id=\"T_5e86352e_683a_11eb_8797_1e00a2213542row1_col5\" class=\"data row1 col5\" >$102,100,000.00</td>\n",
       "                        <td id=\"T_5e86352e_683a_11eb_8797_1e00a2213542row1_col6\" class=\"data row1 col6\" >$4,044,300,000.00</td>\n",
       "                        <td id=\"T_5e86352e_683a_11eb_8797_1e00a2213542row1_col7\" class=\"data row1 col7\" >$635,500,000.00</td>\n",
       "                        <td id=\"T_5e86352e_683a_11eb_8797_1e00a2213542row1_col8\" class=\"data row1 col8\" >$2,708,100,000.00</td>\n",
       "                        <td id=\"T_5e86352e_683a_11eb_8797_1e00a2213542row1_col9\" class=\"data row1 col9\" >$8,285,300,000.00</td>\n",
       "                        <td id=\"T_5e86352e_683a_11eb_8797_1e00a2213542row1_col10\" class=\"data row1 col10\" >2019</td>\n",
       "            </tr>\n",
       "            <tr>\n",
       "                        <th id=\"T_5e86352e_683a_11eb_8797_1e00a2213542level0_row2\" class=\"row_heading level0 row2\" >2018-02-03 00:00:00</th>\n",
       "                        <td id=\"T_5e86352e_683a_11eb_8797_1e00a2213542row2_col0\" class=\"data row2 col0\" >$677,100,000.00</td>\n",
       "                        <td id=\"T_5e86352e_683a_11eb_8797_1e00a2213542row2_col1\" class=\"data row2 col1\" >$864,400,000.00</td>\n",
       "                        <td id=\"T_5e86352e_683a_11eb_8797_1e00a2213542row2_col2\" class=\"data row2 col2\" >$817,900,000.00</td>\n",
       "                        <td id=\"T_5e86352e_683a_11eb_8797_1e00a2213542row2_col3\" class=\"data row2 col3\" >$3,040,100,000.00</td>\n",
       "                        <td id=\"T_5e86352e_683a_11eb_8797_1e00a2213542row2_col4\" class=\"data row2 col4\" >$434,900,000.00</td>\n",
       "                        <td id=\"T_5e86352e_683a_11eb_8797_1e00a2213542row2_col5\" class=\"data row2 col5\" >$101,400,000.00</td>\n",
       "                        <td id=\"T_5e86352e_683a_11eb_8797_1e00a2213542row2_col6\" class=\"data row2 col6\" >$5,041,600,000.00</td>\n",
       "                        <td id=\"T_5e86352e_683a_11eb_8797_1e00a2213542row2_col7\" class=\"data row2 col7\" >$-63,700,000.00</td>\n",
       "                        <td id=\"T_5e86352e_683a_11eb_8797_1e00a2213542row2_col8\" class=\"data row2 col8\" >$2,827,100,000.00</td>\n",
       "                        <td id=\"T_5e86352e_683a_11eb_8797_1e00a2213542row2_col9\" class=\"data row2 col9\" >$9,224,600,000.00</td>\n",
       "                        <td id=\"T_5e86352e_683a_11eb_8797_1e00a2213542row2_col10\" class=\"data row2 col10\" >2018</td>\n",
       "            </tr>\n",
       "            <tr>\n",
       "                        <th id=\"T_5e86352e_683a_11eb_8797_1e00a2213542level0_row3\" class=\"row_heading level0 row3\" >2017-01-28 00:00:00</th>\n",
       "                        <td id=\"T_5e86352e_683a_11eb_8797_1e00a2213542row3_col0\" class=\"data row3 col0\" >$756,700,000.00</td>\n",
       "                        <td id=\"T_5e86352e_683a_11eb_8797_1e00a2213542row3_col1\" class=\"data row3 col1\" >$669,400,000.00</td>\n",
       "                        <td id=\"T_5e86352e_683a_11eb_8797_1e00a2213542row3_col2\" class=\"data row3 col2\" >$815,000,000.00</td>\n",
       "                        <td id=\"T_5e86352e_683a_11eb_8797_1e00a2213542row3_col3\" class=\"data row3 col3\" >$3,009,300,000.00</td>\n",
       "                        <td id=\"T_5e86352e_683a_11eb_8797_1e00a2213542row3_col4\" class=\"data row3 col4\" >$537,100,000.00</td>\n",
       "                        <td id=\"T_5e86352e_683a_11eb_8797_1e00a2213542row3_col5\" class=\"data row3 col5\" >$103,400,000.00</td>\n",
       "                        <td id=\"T_5e86352e_683a_11eb_8797_1e00a2213542row3_col6\" class=\"data row3 col6\" >$4,975,900,000.00</td>\n",
       "                        <td id=\"T_5e86352e_683a_11eb_8797_1e00a2213542row3_col7\" class=\"data row3 col7\" >$-578,000,000.00</td>\n",
       "                        <td id=\"T_5e86352e_683a_11eb_8797_1e00a2213542row3_col8\" class=\"data row3 col8\" >$2,721,800,000.00</td>\n",
       "                        <td id=\"T_5e86352e_683a_11eb_8797_1e00a2213542row3_col9\" class=\"data row3 col9\" >$8,607,900,000.00</td>\n",
       "                        <td id=\"T_5e86352e_683a_11eb_8797_1e00a2213542row3_col10\" class=\"data row3 col10\" >2017</td>\n",
       "            </tr>\n",
       "            <tr>\n",
       "                        <th id=\"T_5e86352e_683a_11eb_8797_1e00a2213542level0_row4\" class=\"row_heading level0 row4\" >2016-01-30 00:00:00</th>\n",
       "                        <td id=\"T_5e86352e_683a_11eb_8797_1e00a2213542row4_col0\" class=\"data row4 col0\" >$809,400,000.00</td>\n",
       "                        <td id=\"T_5e86352e_683a_11eb_8797_1e00a2213542row4_col1\" class=\"data row4 col1\" >$450,400,000.00</td>\n",
       "                        <td id=\"T_5e86352e_683a_11eb_8797_1e00a2213542row4_col2\" class=\"data row4 col2\" >$350,400,000.00</td>\n",
       "                        <td id=\"T_5e86352e_683a_11eb_8797_1e00a2213542row4_col3\" class=\"data row4 col3\" >$2,918,300,000.00</td>\n",
       "                        <td id=\"T_5e86352e_683a_11eb_8797_1e00a2213542row4_col4\" class=\"data row4 col4\" >$656,800,000.00</td>\n",
       "                        <td id=\"T_5e86352e_683a_11eb_8797_1e00a2213542row4_col5\" class=\"data row4 col5\" >$106,000,000.00</td>\n",
       "                        <td id=\"T_5e86352e_683a_11eb_8797_1e00a2213542row4_col6\" class=\"data row4 col6\" >$4,334,900,000.00</td>\n",
       "                        <td id=\"T_5e86352e_683a_11eb_8797_1e00a2213542row4_col7\" class=\"data row4 col7\" >$-444,600,000.00</td>\n",
       "                        <td id=\"T_5e86352e_683a_11eb_8797_1e00a2213542row4_col8\" class=\"data row4 col8\" >$2,253,900,000.00</td>\n",
       "                        <td id=\"T_5e86352e_683a_11eb_8797_1e00a2213542row4_col9\" class=\"data row4 col9\" >$9,363,800,000.00</td>\n",
       "                        <td id=\"T_5e86352e_683a_11eb_8797_1e00a2213542row4_col10\" class=\"data row4 col10\" >2016</td>\n",
       "            </tr>\n",
       "    </tbody></table>"
      ],
      "text/plain": [
       "<pandas.io.formats.style.Styler at 0x7fd848127520>"
      ]
     },
     "execution_count": 5,
     "metadata": {},
     "output_type": "execute_result"
    }
   ],
   "source": [
    "financials = gme['financials']\n",
    "financials_df = pd.DataFrame(financials, columns=['date','EBITDA','totalCash','totalDebt', 'grossProfit',\n",
    "                                                  'cashFlow','commonStock', 'totalAssets', \n",
    "                                                 'totalInvestingCashFlows', 'totalLiabilities','totalRevenue'])\n",
    "\n",
    "financials_df['date'] = pd.to_datetime(financials_df['date'], unit='ms')\n",
    "\n",
    "# Add year column\n",
    "financials_df['Year'] = financials_df['date'].dt.year\n",
    "\n",
    "financials_df = financials_df.rename(columns={'date': 'Date',\n",
    "                                              'totalCash': 'Total Cash',\n",
    "                                              'totalDebt': 'Total Debt',\n",
    "                                              'totalRevenue':'Total Revenue',\n",
    "                                              'grossProfit': 'Gross Profit',\n",
    "                                              'cashFlow': 'Cash Flow',\n",
    "                                              'commonStock': 'Common Stock',\n",
    "                                              'totalAssets': 'Total Assets',\n",
    "                                              'totalInvestingCashFlows': 'Total Investment Cash Flow',\n",
    "                                              'totalLiabilities': 'Total Liabilities',\n",
    "                                              }).set_index('Date')\n",
    "\n",
    "financials_df.style.format({\n",
    "    'EBITDA': \"${:,.2f}\",\n",
    "    'Total Cash': \"${:,.2f}\",\n",
    "    'Total Debt': \"${:,.2f}\",\n",
    "    'Total Revenue': \"${:,.2f}\",\n",
    "    'Gross Profit': \"${:,.2f}\",\n",
    "    'Cash Flow': \"${:,.2f}\",\n",
    "    'Common Stock': \"${:,.2f}\",\n",
    "    'Total Assets': \"${:,.2f}\",\n",
    "    'Total Investment Cash Flow': \"${:,.2f}\",\n",
    "    'Total Liabilities': \"${:,.2f}\"})"
   ]
  },
  {
   "cell_type": "code",
   "execution_count": null,
   "metadata": {},
   "outputs": [],
   "source": [
    "pd.DataFrame(financials)"
   ]
  },
  {
   "cell_type": "code",
   "execution_count": null,
   "metadata": {},
   "outputs": [],
   "source": [
    "#Turns large tick values (in the billions, millions and thousands) such as 4500 into 4.5K and also appropriately turns 4000 into 4K (no zero after the decimal).\n",
    "\n",
    "def reformat_large_tick_values(tick_val, pos):\n",
    "\n",
    "    if tick_val >= 1000000000:\n",
    "        val = round(tick_val/1000000000, 1)\n",
    "        new_tick_format = '{:}B'.format(val)\n",
    "    elif tick_val >= 1000000:\n",
    "        val = round(tick_val/1000000, 1)\n",
    "        new_tick_format = '{:}M'.format(val)\n",
    "    elif tick_val >= 1000:\n",
    "        val = round(tick_val/1000, 1)\n",
    "        new_tick_format = '{:}K'.format(val)\n",
    "    elif tick_val < 1000:\n",
    "        new_tick_format = round(tick_val, 1)\n",
    "    else:\n",
    "        new_tick_format = tick_val\n",
    "\n",
    "    # make new_tick_format into a string value\n",
    "    new_tick_format = str(new_tick_format)\n",
    "    \n",
    "    # code below will keep 4.5M as is but change values such as 4.0M to 4M since that zero after the decimal isn't needed\n",
    "    index_of_decimal = new_tick_format.find(\".\")\n",
    "    \n",
    "    if index_of_decimal != -1:\n",
    "        value_after_decimal = new_tick_format[index_of_decimal+1]\n",
    "        if value_after_decimal == \"0\":\n",
    "            # remove the 0 after the decimal point since it's not needed\n",
    "            new_tick_format = new_tick_format[0:index_of_decimal] + new_tick_format[index_of_decimal+2:]\n",
    "            \n",
    "    return new_tick_format"
   ]
  },
  {
   "cell_type": "code",
   "execution_count": 23,
   "metadata": {},
   "outputs": [
    {
     "data": {
      "image/png": "[encoded data removed]",
      "text/plain": [
       "<Figure size 720x360 with 1 Axes>"
      ]
     },
     "metadata": {
      "needs_background": "light"
     },
     "output_type": "display_data"
    }
   ],
   "source": [
    "# Sort values by year\n",
    "financials_df = financials_df.sort_values(by='Year')\n",
    "\n",
    "\n",
    "columns = financials_df[['EBITDA','Total Cash','Total Debt','Cash Flow', 'Total Liabilities','Gross Profit']]\n",
    "\n",
    "ax = columns.plot.bar(figsize=(10,5), colormap=\"RdBu\", title=\"GameStop Yearly Financial Statement\",\n",
    "                width=.9)\n",
    "\n",
    "\n",
    "\n",
    "tick_locations = [value for value in x_axis]\n",
    "\n",
    "plt.xticks(tick_locations, financials_df['Year'])\n",
    "plt.xticks(rotation = 0)\n",
    "\n",
    "ax.legend(loc=2)  \n",
    "#plt.ylabel('size in meters')\n",
    "#plt.xlabel('time in seconds')\n",
    "plt.show()"
   ]
  },
  {
   "cell_type": "code",
   "execution_count": null,
   "metadata": {},
   "outputs": [],
   "source": [
    "columns"
   ]
  },
  {
   "cell_type": "code",
   "execution_count": null,
   "metadata": {},
   "outputs": [],
   "source": [
    "fig, ax = plt.subplots(figsize=(10,5), facecolor='black')\n",
    "\n",
    "params = {\"ytick.color\" : \"w\",\n",
    "          \"xtick.color\" : \"w\",\n",
    "          \"axes.labelcolor\" : \"w\",\n",
    "          \"axes.edgecolor\" : \"w\"}\n",
    "plt.rcParams.update(params)\n",
    "\n",
    "\n",
    "financials_df['EBITDA'].plot()\n",
    "financials_df['Total Cash'].plot()\n",
    "financials_df['Total Debt'].plot()\n",
    "financials_df['Gross Profit'].plot()\n",
    "financials_df['Cash Flow'].plot()\n",
    "\n",
    "\n",
    "ax.yaxis.set_major_formatter(tick.FuncFormatter(reformat_large_tick_values))\n",
    "# ax.legend(bbox_to_anchor=(1.05, 1), loc='upper left', borderaxespad=0.)\n",
    "ax.legend(bbox_to_anchor=(1.01, 1), loc='upper left', borderaxespad=0.,\n",
    "          fancybox=True, framealpha=1, shadow=True, borderpad=1)\n",
    "ax.set_facecolor('black')\n",
    "\n",
    "\n",
    "plt.title(\"GameStop Yearly Financial Statement\", fontsize=22, color='white')\n",
    "plt.grid(color='lightslategrey', linestyle='--', alpha=0.3)\n",
    "plt.xlabel('Date', fontsize=15)\n",
    "plt.show()"
   ]
  },
  {
   "cell_type": "code",
   "execution_count": null,
   "metadata": {},
   "outputs": [],
   "source": []
  },
  {
   "cell_type": "code",
   "execution_count": null,
   "metadata": {},
   "outputs": [],
   "source": []
  },
  {
   "cell_type": "code",
   "execution_count": null,
   "metadata": {},
   "outputs": [],
   "source": []
  },
  {
   "cell_type": "markdown",
   "metadata": {},
   "source": [
    "## Gamestop Stock Statistics"
   ]
  },
  {
   "cell_type": "code",
   "execution_count": null,
   "metadata": {},
   "outputs": [],
   "source": [
    "stat_query_url = url + '/stats?token=' + token\n",
    "print(requests.get(stat_query_url))"
   ]
  },
  {
   "cell_type": "code",
   "execution_count": null,
   "metadata": {},
   "outputs": [],
   "source": [
    "response = requests.get(stat_query_url)\n",
    "gme_stat = response.json()\n",
    "gme_stats_df = pd.DataFrame([gme_stat]).set_index('companyName').drop(columns=['float', 'employees', 'ttmDividendRate',\n",
    "                                                                              'dividendYield','nextDividendDate', 'exDividendDate',\n",
    "                                                                              'nextEarningsDate'])\n",
    "gme_stats_df"
   ]
  },
  {
   "cell_type": "code",
   "execution_count": null,
   "metadata": {},
   "outputs": [],
   "source": []
  },
  {
   "cell_type": "markdown",
   "metadata": {},
   "source": [
    "## Gamestop Largest Trades"
   ]
  },
  {
   "cell_type": "code",
   "execution_count": null,
   "metadata": {},
   "outputs": [],
   "source": [
    "trade_query_url = url + '/largest-trades?token=' + token\n",
    "print(requests.get(trade_query_url))"
   ]
  },
  {
   "cell_type": "code",
   "execution_count": null,
   "metadata": {},
   "outputs": [],
   "source": [
    "response = requests.get(trade_query_url)\n",
    "gme_trade = response.json()\n",
    "pd.DataFrame(gme_trade)"
   ]
  },
  {
   "cell_type": "code",
   "execution_count": null,
   "metadata": {},
   "outputs": [],
   "source": []
  },
  {
   "cell_type": "markdown",
   "metadata": {},
   "source": [
    "## GameStop Halt"
   ]
  },
  {
   "cell_type": "code",
   "execution_count": null,
   "metadata": {},
   "outputs": [],
   "source": [
    "halt_query_url = 'https://cloud.iexapis.com/stable/stats/op-halt-status?symbols=GME&token=' + token\n",
    "print(requests.get(halt_query_url))"
   ]
  },
  {
   "cell_type": "code",
   "execution_count": null,
   "metadata": {},
   "outputs": [],
   "source": [
    "response = requests.get(halt_query_url)\n",
    "gme_halt = response.json()\n",
    "pd.DataFrame(gme_halt)"
   ]
  },
  {
   "cell_type": "code",
   "execution_count": null,
   "metadata": {},
   "outputs": [],
   "source": []
  }
 ],
 "metadata": {
  "kernelspec": {
   "display_name": "Python 3",
   "language": "python",
   "name": "python3"
  },
  "language_info": {
   "codemirror_mode": {
    "name": "ipython",
    "version": 3
   },
   "file_extension": ".py",
   "mimetype": "text/x-python",
   "name": "python",
   "nbconvert_exporter": "python",
   "pygments_lexer": "ipython3",
   "version": "3.8.5"
  }
 },
 "nbformat": 4,
 "nbformat_minor": 4
}
