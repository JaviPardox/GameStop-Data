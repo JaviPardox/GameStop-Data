{
 "cells": [
  {
   "cell_type": "markdown",
   "metadata": {},
   "source": [
    "# Gamestop"
   ]
  },
  {
   "cell_type": "code",
   "execution_count": 386,
   "metadata": {},
   "outputs": [],
   "source": [
    "import requests\n",
    "import json\n",
    "import pandas as pd\n",
    "import matplotlib.pyplot as plt\n",
    "import datetime\n",
    "from datetime import datetime\n",
    "import numpy as np\n",
    "import matplotlib.ticker as tick"
   ]
  },
  {
   "cell_type": "code",
   "execution_count": 387,
   "metadata": {},
   "outputs": [
    {
     "name": "stdout",
     "output_type": "stream",
     "text": [
      "<Response [200]>\n"
     ]
    }
   ],
   "source": [
    "# url = 'https://cloud.iexapis.com/stable/stock/GME/financials/5?token=sk_a6ef19bab2c5459093f4aaac416b6219&period=annual'\n",
    "url = 'https://cloud.iexapis.com/stable/stock/GME/'\n",
    "token = 'sk_a6ef19bab2c5459093f4aaac416b6219'\n",
    "query_url = url + 'financials/5?token=' + token + '&period=annual'\n",
    "print(requests.get(query_url))"
   ]
  },
  {
   "cell_type": "markdown",
   "metadata": {},
   "source": [
    "## GameStop Financials"
   ]
  },
  {
   "cell_type": "code",
   "execution_count": 388,
   "metadata": {},
   "outputs": [],
   "source": [
    "response = requests.get(query_url)\n",
    "gme = response.json()"
   ]
  },
  {
   "cell_type": "code",
   "execution_count": 389,
   "metadata": {},
   "outputs": [
    {
     "data": {
      "text/html": [
       "<style  type=\"text/css\" >\n",
       "</style><table id=\"T_b894285b_67c1_11eb_aa0d_c858c0612992\" ><thead>    <tr>        <th class=\"blank level0\" ></th>        <th class=\"col_heading level0 col0\" >EBITDA</th>        <th class=\"col_heading level0 col1\" >Total Cash</th>        <th class=\"col_heading level0 col2\" >Total Debt</th>        <th class=\"col_heading level0 col3\" >Gross Profit</th>        <th class=\"col_heading level0 col4\" >Cash Flow</th>        <th class=\"col_heading level0 col5\" >Common Stock</th>        <th class=\"col_heading level0 col6\" >Total Assets</th>        <th class=\"col_heading level0 col7\" >Total Investment Cash Flow</th>        <th class=\"col_heading level0 col8\" >Total Liabilities</th>        <th class=\"col_heading level0 col9\" >Total Revenue</th>    </tr>    <tr>        <th class=\"index_name level0\" >Date</th>        <th class=\"blank\" ></th>        <th class=\"blank\" ></th>        <th class=\"blank\" ></th>        <th class=\"blank\" ></th>        <th class=\"blank\" ></th>        <th class=\"blank\" ></th>        <th class=\"blank\" ></th>        <th class=\"blank\" ></th>        <th class=\"blank\" ></th>        <th class=\"blank\" ></th>    </tr></thead><tbody>\n",
       "                <tr>\n",
       "                        <th id=\"T_b894285b_67c1_11eb_aa0d_c858c0612992level0_row0\" class=\"row_heading level0 row0\" >2020-02-01 00:00:00</th>\n",
       "                        <td id=\"T_b894285b_67c1_11eb_aa0d_c858c0612992row0_col0\" class=\"data row0 col0\" >$82,200,000.00</td>\n",
       "                        <td id=\"T_b894285b_67c1_11eb_aa0d_c858c0612992row0_col1\" class=\"data row0 col1\" >$499,400,000.00</td>\n",
       "                        <td id=\"T_b894285b_67c1_11eb_aa0d_c858c0612992row0_col2\" class=\"data row0 col2\" >$419,800,000.00</td>\n",
       "                        <td id=\"T_b894285b_67c1_11eb_aa0d_c858c0612992row0_col3\" class=\"data row0 col3\" >$1,908,700,000.00</td>\n",
       "                        <td id=\"T_b894285b_67c1_11eb_aa0d_c858c0612992row0_col4\" class=\"data row0 col4\" >$414,500,000.00</td>\n",
       "                        <td id=\"T_b894285b_67c1_11eb_aa0d_c858c0612992row0_col5\" class=\"data row0 col5\" >$87,500,000.00</td>\n",
       "                        <td id=\"T_b894285b_67c1_11eb_aa0d_c858c0612992row0_col6\" class=\"data row0 col6\" >$2,819,700,000.00</td>\n",
       "                        <td id=\"T_b894285b_67c1_11eb_aa0d_c858c0612992row0_col7\" class=\"data row0 col7\" >$-60,900,000.00</td>\n",
       "                        <td id=\"T_b894285b_67c1_11eb_aa0d_c858c0612992row0_col8\" class=\"data row0 col8\" >$2,208,200,000.00</td>\n",
       "                        <td id=\"T_b894285b_67c1_11eb_aa0d_c858c0612992row0_col9\" class=\"data row0 col9\" >$6,466,000,000.00</td>\n",
       "            </tr>\n",
       "            <tr>\n",
       "                        <th id=\"T_b894285b_67c1_11eb_aa0d_c858c0612992level0_row1\" class=\"row_heading level0 row1\" >2019-02-02 00:00:00</th>\n",
       "                        <td id=\"T_b894285b_67c1_11eb_aa0d_c858c0612992row1_col0\" class=\"data row1 col0\" >$419,500,000.00</td>\n",
       "                        <td id=\"T_b894285b_67c1_11eb_aa0d_c858c0612992row1_col1\" class=\"data row1 col1\" >$1,624,400,000.00</td>\n",
       "                        <td id=\"T_b894285b_67c1_11eb_aa0d_c858c0612992row1_col2\" class=\"data row1 col2\" >$820,800,000.00</td>\n",
       "                        <td id=\"T_b894285b_67c1_11eb_aa0d_c858c0612992row1_col3\" class=\"data row1 col3\" >$2,308,100,000.00</td>\n",
       "                        <td id=\"T_b894285b_67c1_11eb_aa0d_c858c0612992row1_col4\" class=\"data row1 col4\" >$325,100,000.00</td>\n",
       "                        <td id=\"T_b894285b_67c1_11eb_aa0d_c858c0612992row1_col5\" class=\"data row1 col5\" >$102,100,000.00</td>\n",
       "                        <td id=\"T_b894285b_67c1_11eb_aa0d_c858c0612992row1_col6\" class=\"data row1 col6\" >$4,044,300,000.00</td>\n",
       "                        <td id=\"T_b894285b_67c1_11eb_aa0d_c858c0612992row1_col7\" class=\"data row1 col7\" >$635,500,000.00</td>\n",
       "                        <td id=\"T_b894285b_67c1_11eb_aa0d_c858c0612992row1_col8\" class=\"data row1 col8\" >$2,708,100,000.00</td>\n",
       "                        <td id=\"T_b894285b_67c1_11eb_aa0d_c858c0612992row1_col9\" class=\"data row1 col9\" >$8,285,300,000.00</td>\n",
       "            </tr>\n",
       "            <tr>\n",
       "                        <th id=\"T_b894285b_67c1_11eb_aa0d_c858c0612992level0_row2\" class=\"row_heading level0 row2\" >2018-02-03 00:00:00</th>\n",
       "                        <td id=\"T_b894285b_67c1_11eb_aa0d_c858c0612992row2_col0\" class=\"data row2 col0\" >$677,100,000.00</td>\n",
       "                        <td id=\"T_b894285b_67c1_11eb_aa0d_c858c0612992row2_col1\" class=\"data row2 col1\" >$864,400,000.00</td>\n",
       "                        <td id=\"T_b894285b_67c1_11eb_aa0d_c858c0612992row2_col2\" class=\"data row2 col2\" >$817,900,000.00</td>\n",
       "                        <td id=\"T_b894285b_67c1_11eb_aa0d_c858c0612992row2_col3\" class=\"data row2 col3\" >$3,040,100,000.00</td>\n",
       "                        <td id=\"T_b894285b_67c1_11eb_aa0d_c858c0612992row2_col4\" class=\"data row2 col4\" >$434,900,000.00</td>\n",
       "                        <td id=\"T_b894285b_67c1_11eb_aa0d_c858c0612992row2_col5\" class=\"data row2 col5\" >$101,400,000.00</td>\n",
       "                        <td id=\"T_b894285b_67c1_11eb_aa0d_c858c0612992row2_col6\" class=\"data row2 col6\" >$5,041,600,000.00</td>\n",
       "                        <td id=\"T_b894285b_67c1_11eb_aa0d_c858c0612992row2_col7\" class=\"data row2 col7\" >$-63,700,000.00</td>\n",
       "                        <td id=\"T_b894285b_67c1_11eb_aa0d_c858c0612992row2_col8\" class=\"data row2 col8\" >$2,827,100,000.00</td>\n",
       "                        <td id=\"T_b894285b_67c1_11eb_aa0d_c858c0612992row2_col9\" class=\"data row2 col9\" >$9,224,600,000.00</td>\n",
       "            </tr>\n",
       "            <tr>\n",
       "                        <th id=\"T_b894285b_67c1_11eb_aa0d_c858c0612992level0_row3\" class=\"row_heading level0 row3\" >2017-01-28 00:00:00</th>\n",
       "                        <td id=\"T_b894285b_67c1_11eb_aa0d_c858c0612992row3_col0\" class=\"data row3 col0\" >$756,700,000.00</td>\n",
       "                        <td id=\"T_b894285b_67c1_11eb_aa0d_c858c0612992row3_col1\" class=\"data row3 col1\" >$669,400,000.00</td>\n",
       "                        <td id=\"T_b894285b_67c1_11eb_aa0d_c858c0612992row3_col2\" class=\"data row3 col2\" >$815,000,000.00</td>\n",
       "                        <td id=\"T_b894285b_67c1_11eb_aa0d_c858c0612992row3_col3\" class=\"data row3 col3\" >$3,009,300,000.00</td>\n",
       "                        <td id=\"T_b894285b_67c1_11eb_aa0d_c858c0612992row3_col4\" class=\"data row3 col4\" >$537,100,000.00</td>\n",
       "                        <td id=\"T_b894285b_67c1_11eb_aa0d_c858c0612992row3_col5\" class=\"data row3 col5\" >$103,400,000.00</td>\n",
       "                        <td id=\"T_b894285b_67c1_11eb_aa0d_c858c0612992row3_col6\" class=\"data row3 col6\" >$4,975,900,000.00</td>\n",
       "                        <td id=\"T_b894285b_67c1_11eb_aa0d_c858c0612992row3_col7\" class=\"data row3 col7\" >$-578,000,000.00</td>\n",
       "                        <td id=\"T_b894285b_67c1_11eb_aa0d_c858c0612992row3_col8\" class=\"data row3 col8\" >$2,721,800,000.00</td>\n",
       "                        <td id=\"T_b894285b_67c1_11eb_aa0d_c858c0612992row3_col9\" class=\"data row3 col9\" >$8,607,900,000.00</td>\n",
       "            </tr>\n",
       "            <tr>\n",
       "                        <th id=\"T_b894285b_67c1_11eb_aa0d_c858c0612992level0_row4\" class=\"row_heading level0 row4\" >2016-01-30 00:00:00</th>\n",
       "                        <td id=\"T_b894285b_67c1_11eb_aa0d_c858c0612992row4_col0\" class=\"data row4 col0\" >$809,400,000.00</td>\n",
       "                        <td id=\"T_b894285b_67c1_11eb_aa0d_c858c0612992row4_col1\" class=\"data row4 col1\" >$450,400,000.00</td>\n",
       "                        <td id=\"T_b894285b_67c1_11eb_aa0d_c858c0612992row4_col2\" class=\"data row4 col2\" >$350,400,000.00</td>\n",
       "                        <td id=\"T_b894285b_67c1_11eb_aa0d_c858c0612992row4_col3\" class=\"data row4 col3\" >$2,918,300,000.00</td>\n",
       "                        <td id=\"T_b894285b_67c1_11eb_aa0d_c858c0612992row4_col4\" class=\"data row4 col4\" >$656,800,000.00</td>\n",
       "                        <td id=\"T_b894285b_67c1_11eb_aa0d_c858c0612992row4_col5\" class=\"data row4 col5\" >$106,000,000.00</td>\n",
       "                        <td id=\"T_b894285b_67c1_11eb_aa0d_c858c0612992row4_col6\" class=\"data row4 col6\" >$4,334,900,000.00</td>\n",
       "                        <td id=\"T_b894285b_67c1_11eb_aa0d_c858c0612992row4_col7\" class=\"data row4 col7\" >$-444,600,000.00</td>\n",
       "                        <td id=\"T_b894285b_67c1_11eb_aa0d_c858c0612992row4_col8\" class=\"data row4 col8\" >$2,253,900,000.00</td>\n",
       "                        <td id=\"T_b894285b_67c1_11eb_aa0d_c858c0612992row4_col9\" class=\"data row4 col9\" >$9,363,800,000.00</td>\n",
       "            </tr>\n",
       "    </tbody></table>"
      ],
      "text/plain": [
       "<pandas.io.formats.style.Styler at 0x19c9cafbd90>"
      ]
     },
     "execution_count": 389,
     "metadata": {},
     "output_type": "execute_result"
    }
   ],
   "source": [
    "financials = gme['financials']\n",
    "financials_df = pd.DataFrame(financials, columns=['date','EBITDA','totalCash','totalDebt', 'grossProfit',\n",
    "                                                  'cashFlow','commonStock', 'totalAssets', \n",
    "                                                 'totalInvestingCashFlows', 'totalLiabilities','totalRevenue'])\n",
    "\n",
    "financials_df['date'] = pd.to_datetime(financials_df['date'], unit='ms')\n",
    "\n",
    "financials_df = financials_df.rename(columns={'date': 'Date',\n",
    "                                              'totalCash': 'Total Cash',\n",
    "                                              'totalDebt': 'Total Debt',\n",
    "                                              'totalRevenue':'Total Revenue',\n",
    "                                              'grossProfit': 'Gross Profit',\n",
    "                                              'cashFlow': 'Cash Flow',\n",
    "                                              'commonStock': 'Common Stock',\n",
    "                                              'totalAssets': 'Total Assets',\n",
    "                                              'totalInvestingCashFlows': 'Total Investment Cash Flow',\n",
    "                                              'totalLiabilities': 'Total Liabilities',\n",
    "                                              }).set_index('Date')\n",
    "\n",
    "financials_df.style.format({\n",
    "    'EBITDA': \"${:,.2f}\",\n",
    "    'Total Cash': \"${:,.2f}\",\n",
    "    'Total Debt': \"${:,.2f}\",\n",
    "    'Total Revenue': \"${:,.2f}\",\n",
    "    'Gross Profit': \"${:,.2f}\",\n",
    "    'Cash Flow': \"${:,.2f}\",\n",
    "    'Common Stock': \"${:,.2f}\",\n",
    "    'Total Assets': \"${:,.2f}\",\n",
    "    'Total Investment Cash Flow': \"${:,.2f}\",\n",
    "    'Total Liabilities': \"${:,.2f}\"})"
   ]
  },
  {
   "cell_type": "code",
   "execution_count": 390,
   "metadata": {},
   "outputs": [
    {
     "data": {
      "text/html": [
       "<div>\n",
       "<style scoped>\n",
       "    .dataframe tbody tr th:only-of-type {\n",
       "        vertical-align: middle;\n",
       "    }\n",
       "\n",
       "    .dataframe tbody tr th {\n",
       "        vertical-align: top;\n",
       "    }\n",
       "\n",
       "    .dataframe thead th {\n",
       "        text-align: right;\n",
       "    }\n",
       "</style>\n",
       "<table border=\"1\" class=\"dataframe\">\n",
       "  <thead>\n",
       "    <tr style=\"text-align: right;\">\n",
       "      <th></th>\n",
       "      <th>EBITDA</th>\n",
       "      <th>accountsPayable</th>\n",
       "      <th>capitalSurplus</th>\n",
       "      <th>cashChange</th>\n",
       "      <th>cashFlow</th>\n",
       "      <th>cashFlowFinancing</th>\n",
       "      <th>changesInInventories</th>\n",
       "      <th>changesInReceivables</th>\n",
       "      <th>commonStock</th>\n",
       "      <th>costOfRevenue</th>\n",
       "      <th>...</th>\n",
       "      <th>totalDebt</th>\n",
       "      <th>totalInvestingCashFlows</th>\n",
       "      <th>totalLiabilities</th>\n",
       "      <th>totalRevenue</th>\n",
       "      <th>treasuryStock</th>\n",
       "      <th>id</th>\n",
       "      <th>key</th>\n",
       "      <th>subkey</th>\n",
       "      <th>date</th>\n",
       "      <th>updated</th>\n",
       "    </tr>\n",
       "  </thead>\n",
       "  <tbody>\n",
       "    <tr>\n",
       "      <th>0</th>\n",
       "      <td>82200000</td>\n",
       "      <td>380800000</td>\n",
       "      <td>None</td>\n",
       "      <td>-1125000000</td>\n",
       "      <td>414500000</td>\n",
       "      <td>-644700000</td>\n",
       "      <td>-390800000</td>\n",
       "      <td>7700000</td>\n",
       "      <td>87500000</td>\n",
       "      <td>4557300000</td>\n",
       "      <td>...</td>\n",
       "      <td>419800000</td>\n",
       "      <td>-60900000</td>\n",
       "      <td>2208200000</td>\n",
       "      <td>6466000000</td>\n",
       "      <td>0</td>\n",
       "      <td>FINANCIALS</td>\n",
       "      <td>GME</td>\n",
       "      <td>annual</td>\n",
       "      <td>1580515200000</td>\n",
       "      <td>1611947314000</td>\n",
       "    </tr>\n",
       "    <tr>\n",
       "      <th>1</th>\n",
       "      <td>419500000</td>\n",
       "      <td>1051900000</td>\n",
       "      <td>None</td>\n",
       "      <td>760000000</td>\n",
       "      <td>325100000</td>\n",
       "      <td>-174700000</td>\n",
       "      <td>-116200000</td>\n",
       "      <td>-48500000</td>\n",
       "      <td>102100000</td>\n",
       "      <td>5977200000</td>\n",
       "      <td>...</td>\n",
       "      <td>820800000</td>\n",
       "      <td>635500000</td>\n",
       "      <td>2708100000</td>\n",
       "      <td>8285300000</td>\n",
       "      <td>0</td>\n",
       "      <td>FINANCIALS</td>\n",
       "      <td>GME</td>\n",
       "      <td>annual</td>\n",
       "      <td>1549065600000</td>\n",
       "      <td>1611947314000</td>\n",
       "    </tr>\n",
       "    <tr>\n",
       "      <th>2</th>\n",
       "      <td>677100000</td>\n",
       "      <td>902000000</td>\n",
       "      <td>None</td>\n",
       "      <td>195000000</td>\n",
       "      <td>434900000</td>\n",
       "      <td>-202500000</td>\n",
       "      <td>245200000</td>\n",
       "      <td>-38200000</td>\n",
       "      <td>101400000</td>\n",
       "      <td>6184500000</td>\n",
       "      <td>...</td>\n",
       "      <td>817900000</td>\n",
       "      <td>-63700000</td>\n",
       "      <td>2827100000</td>\n",
       "      <td>9224600000</td>\n",
       "      <td>0</td>\n",
       "      <td>FINANCIALS</td>\n",
       "      <td>GME</td>\n",
       "      <td>annual</td>\n",
       "      <td>1517616000000</td>\n",
       "      <td>1611947314000</td>\n",
       "    </tr>\n",
       "    <tr>\n",
       "      <th>3</th>\n",
       "      <td>756700000</td>\n",
       "      <td>616600000</td>\n",
       "      <td>None</td>\n",
       "      <td>219000000</td>\n",
       "      <td>537100000</td>\n",
       "      <td>238700000</td>\n",
       "      <td>-41500000</td>\n",
       "      <td>44400000</td>\n",
       "      <td>103400000</td>\n",
       "      <td>5598600000</td>\n",
       "      <td>...</td>\n",
       "      <td>815000000</td>\n",
       "      <td>-578000000</td>\n",
       "      <td>2721800000</td>\n",
       "      <td>8607900000</td>\n",
       "      <td>0</td>\n",
       "      <td>FINANCIALS</td>\n",
       "      <td>GME</td>\n",
       "      <td>annual</td>\n",
       "      <td>1485561600000</td>\n",
       "      <td>1611947314000</td>\n",
       "    </tr>\n",
       "    <tr>\n",
       "      <th>4</th>\n",
       "      <td>809400000</td>\n",
       "      <td>631900000</td>\n",
       "      <td>None</td>\n",
       "      <td>-159700000</td>\n",
       "      <td>656800000</td>\n",
       "      <td>-346200000</td>\n",
       "      <td>18200000</td>\n",
       "      <td>63000000</td>\n",
       "      <td>106000000</td>\n",
       "      <td>6445500000</td>\n",
       "      <td>...</td>\n",
       "      <td>350400000</td>\n",
       "      <td>-444600000</td>\n",
       "      <td>2253900000</td>\n",
       "      <td>9363800000</td>\n",
       "      <td>0</td>\n",
       "      <td>FINANCIALS</td>\n",
       "      <td>GME</td>\n",
       "      <td>annual</td>\n",
       "      <td>1454112000000</td>\n",
       "      <td>1611947315000</td>\n",
       "    </tr>\n",
       "  </tbody>\n",
       "</table>\n",
       "<p>5 rows × 70 columns</p>\n",
       "</div>"
      ],
      "text/plain": [
       "      EBITDA  accountsPayable capitalSurplus  cashChange   cashFlow  \\\n",
       "0   82200000        380800000           None -1125000000  414500000   \n",
       "1  419500000       1051900000           None   760000000  325100000   \n",
       "2  677100000        902000000           None   195000000  434900000   \n",
       "3  756700000        616600000           None   219000000  537100000   \n",
       "4  809400000        631900000           None  -159700000  656800000   \n",
       "\n",
       "   cashFlowFinancing  changesInInventories  changesInReceivables  commonStock  \\\n",
       "0         -644700000            -390800000               7700000     87500000   \n",
       "1         -174700000            -116200000             -48500000    102100000   \n",
       "2         -202500000             245200000             -38200000    101400000   \n",
       "3          238700000             -41500000              44400000    103400000   \n",
       "4         -346200000              18200000              63000000    106000000   \n",
       "\n",
       "   costOfRevenue  ...  totalDebt  totalInvestingCashFlows  totalLiabilities  \\\n",
       "0     4557300000  ...  419800000                -60900000        2208200000   \n",
       "1     5977200000  ...  820800000                635500000        2708100000   \n",
       "2     6184500000  ...  817900000                -63700000        2827100000   \n",
       "3     5598600000  ...  815000000               -578000000        2721800000   \n",
       "4     6445500000  ...  350400000               -444600000        2253900000   \n",
       "\n",
       "   totalRevenue  treasuryStock          id  key  subkey           date  \\\n",
       "0    6466000000              0  FINANCIALS  GME  annual  1580515200000   \n",
       "1    8285300000              0  FINANCIALS  GME  annual  1549065600000   \n",
       "2    9224600000              0  FINANCIALS  GME  annual  1517616000000   \n",
       "3    8607900000              0  FINANCIALS  GME  annual  1485561600000   \n",
       "4    9363800000              0  FINANCIALS  GME  annual  1454112000000   \n",
       "\n",
       "         updated  \n",
       "0  1611947314000  \n",
       "1  1611947314000  \n",
       "2  1611947314000  \n",
       "3  1611947314000  \n",
       "4  1611947315000  \n",
       "\n",
       "[5 rows x 70 columns]"
      ]
     },
     "execution_count": 390,
     "metadata": {},
     "output_type": "execute_result"
    }
   ],
   "source": [
    "pd.DataFrame(financials)"
   ]
  },
  {
   "cell_type": "code",
   "execution_count": 391,
   "metadata": {},
   "outputs": [],
   "source": [
    "#Turns large tick values (in the billions, millions and thousands) such as 4500 into 4.5K and also appropriately turns 4000 into 4K (no zero after the decimal).\n",
    "\n",
    "def reformat_large_tick_values(tick_val, pos):\n",
    "\n",
    "    if tick_val >= 1000000000:\n",
    "        val = round(tick_val/1000000000, 1)\n",
    "        new_tick_format = '{:}B'.format(val)\n",
    "    elif tick_val >= 1000000:\n",
    "        val = round(tick_val/1000000, 1)\n",
    "        new_tick_format = '{:}M'.format(val)\n",
    "    elif tick_val >= 1000:\n",
    "        val = round(tick_val/1000, 1)\n",
    "        new_tick_format = '{:}K'.format(val)\n",
    "    elif tick_val < 1000:\n",
    "        new_tick_format = round(tick_val, 1)\n",
    "    else:\n",
    "        new_tick_format = tick_val\n",
    "\n",
    "    # make new_tick_format into a string value\n",
    "    new_tick_format = str(new_tick_format)\n",
    "    \n",
    "    # code below will keep 4.5M as is but change values such as 4.0M to 4M since that zero after the decimal isn't needed\n",
    "    index_of_decimal = new_tick_format.find(\".\")\n",
    "    \n",
    "    if index_of_decimal != -1:\n",
    "        value_after_decimal = new_tick_format[index_of_decimal+1]\n",
    "        if value_after_decimal == \"0\":\n",
    "            # remove the 0 after the decimal point since it's not needed\n",
    "            new_tick_format = new_tick_format[0:index_of_decimal] + new_tick_format[index_of_decimal+2:]\n",
    "            \n",
    "    return new_tick_format"
   ]
  },
  {
   "cell_type": "code",
   "execution_count": null,
   "metadata": {},
   "outputs": [],
   "source": []
  },
  {
   "cell_type": "code",
   "execution_count": 421,
   "metadata": {},
   "outputs": [
    {
     "data": {
      "image/png": "[encoded data removed]",
      "text/plain": [
       "<Figure size 1000x500 with 1 Axes>"
      ]
     },
     "metadata": {},
     "output_type": "display_data"
    }
   ],
   "source": [
    "\n",
    "columns = financials_df[['EBITDA','Total Cash','Total Debt','Cash Flow', 'Total Liabilities','Gross Profit']]\n",
    "\n",
    "ax = columns.plot.bar(figsize=(10,5), colormap=\"RdBu\", title=\"GameStop Yearly Financial Statement\",\n",
    "                width=.9)\n",
    "\n",
    "ax.legend(loc=2)  \n",
    "# plt.ylabel('size in meters')\n",
    "# plt.xlabel('time in seconds')\n",
    "plt.show()"
   ]
  },
  {
   "cell_type": "code",
   "execution_count": 407,
   "metadata": {},
   "outputs": [
    {
     "data": {
      "text/html": [
       "<div>\n",
       "<style scoped>\n",
       "    .dataframe tbody tr th:only-of-type {\n",
       "        vertical-align: middle;\n",
       "    }\n",
       "\n",
       "    .dataframe tbody tr th {\n",
       "        vertical-align: top;\n",
       "    }\n",
       "\n",
       "    .dataframe thead th {\n",
       "        text-align: right;\n",
       "    }\n",
       "</style>\n",
       "<table border=\"1\" class=\"dataframe\">\n",
       "  <thead>\n",
       "    <tr style=\"text-align: right;\">\n",
       "      <th></th>\n",
       "      <th>EBITDA</th>\n",
       "      <th>Total Cash</th>\n",
       "      <th>Total Debt</th>\n",
       "      <th>Cash Flow</th>\n",
       "      <th>Total Liabilities</th>\n",
       "      <th>Gross Profit</th>\n",
       "    </tr>\n",
       "    <tr>\n",
       "      <th>Date</th>\n",
       "      <th></th>\n",
       "      <th></th>\n",
       "      <th></th>\n",
       "      <th></th>\n",
       "      <th></th>\n",
       "      <th></th>\n",
       "    </tr>\n",
       "  </thead>\n",
       "  <tbody>\n",
       "    <tr>\n",
       "      <th>2020-02-01</th>\n",
       "      <td>82200000</td>\n",
       "      <td>499400000</td>\n",
       "      <td>419800000</td>\n",
       "      <td>414500000</td>\n",
       "      <td>2208200000</td>\n",
       "      <td>1908700000</td>\n",
       "    </tr>\n",
       "    <tr>\n",
       "      <th>2019-02-02</th>\n",
       "      <td>419500000</td>\n",
       "      <td>1624400000</td>\n",
       "      <td>820800000</td>\n",
       "      <td>325100000</td>\n",
       "      <td>2708100000</td>\n",
       "      <td>2308100000</td>\n",
       "    </tr>\n",
       "    <tr>\n",
       "      <th>2018-02-03</th>\n",
       "      <td>677100000</td>\n",
       "      <td>864400000</td>\n",
       "      <td>817900000</td>\n",
       "      <td>434900000</td>\n",
       "      <td>2827100000</td>\n",
       "      <td>3040100000</td>\n",
       "    </tr>\n",
       "    <tr>\n",
       "      <th>2017-01-28</th>\n",
       "      <td>756700000</td>\n",
       "      <td>669400000</td>\n",
       "      <td>815000000</td>\n",
       "      <td>537100000</td>\n",
       "      <td>2721800000</td>\n",
       "      <td>3009300000</td>\n",
       "    </tr>\n",
       "    <tr>\n",
       "      <th>2016-01-30</th>\n",
       "      <td>809400000</td>\n",
       "      <td>450400000</td>\n",
       "      <td>350400000</td>\n",
       "      <td>656800000</td>\n",
       "      <td>2253900000</td>\n",
       "      <td>2918300000</td>\n",
       "    </tr>\n",
       "  </tbody>\n",
       "</table>\n",
       "</div>"
      ],
      "text/plain": [
       "               EBITDA  Total Cash  Total Debt  Cash Flow  Total Liabilities  \\\n",
       "Date                                                                          \n",
       "2020-02-01   82200000   499400000   419800000  414500000         2208200000   \n",
       "2019-02-02  419500000  1624400000   820800000  325100000         2708100000   \n",
       "2018-02-03  677100000   864400000   817900000  434900000         2827100000   \n",
       "2017-01-28  756700000   669400000   815000000  537100000         2721800000   \n",
       "2016-01-30  809400000   450400000   350400000  656800000         2253900000   \n",
       "\n",
       "            Gross Profit  \n",
       "Date                      \n",
       "2020-02-01    1908700000  \n",
       "2019-02-02    2308100000  \n",
       "2018-02-03    3040100000  \n",
       "2017-01-28    3009300000  \n",
       "2016-01-30    2918300000  "
      ]
     },
     "execution_count": 407,
     "metadata": {},
     "output_type": "execute_result"
    }
   ],
   "source": [
    "columns"
   ]
  },
  {
   "cell_type": "code",
   "execution_count": 282,
   "metadata": {},
   "outputs": [
    {
     "data": {
      "image/png": "[encoded data removed]",
      "text/plain": [
       "<Figure size 1000x500 with 1 Axes>"
      ]
     },
     "metadata": {},
     "output_type": "display_data"
    }
   ],
   "source": [
    "fig, ax = plt.subplots(figsize=(10,5), facecolor='black')\n",
    "\n",
    "params = {\"ytick.color\" : \"w\",\n",
    "          \"xtick.color\" : \"w\",\n",
    "          \"axes.labelcolor\" : \"w\",\n",
    "          \"axes.edgecolor\" : \"w\"}\n",
    "plt.rcParams.update(params)\n",
    "\n",
    "\n",
    "financials_df['EBITDA'].plot()\n",
    "financials_df['Total Cash'].plot()\n",
    "financials_df['Total Debt'].plot()\n",
    "financials_df['Gross Profit'].plot()\n",
    "financials_df['Cash Flow'].plot()\n",
    "\n",
    "\n",
    "ax.yaxis.set_major_formatter(tick.FuncFormatter(reformat_large_tick_values))\n",
    "# ax.legend(bbox_to_anchor=(1.05, 1), loc='upper left', borderaxespad=0.)\n",
    "ax.legend(bbox_to_anchor=(1.01, 1), loc='upper left', borderaxespad=0.,\n",
    "          fancybox=True, framealpha=1, shadow=True, borderpad=1)\n",
    "ax.set_facecolor('black')\n",
    "\n",
    "\n",
    "plt.title(\"GameStop Yearly Financial Statement\", fontsize=22, color='white')\n",
    "plt.grid(color='lightslategrey', linestyle='--', alpha=0.3)\n",
    "plt.xlabel('Date', fontsize=15)\n",
    "plt.show()"
   ]
  },
  {
   "cell_type": "code",
   "execution_count": 288,
   "metadata": {},
   "outputs": [
    {
     "data": {
      "text/plain": [
       "<AxesSubplot:xlabel='Date'>"
      ]
     },
     "execution_count": 288,
     "metadata": {},
     "output_type": "execute_result"
    },
    {
     "data": {
      "image/png": "[encoded data removed]",
      "text/plain": [
       "<Figure size 640x480 with 1 Axes>"
      ]
     },
     "metadata": {},
     "output_type": "display_data"
    }
   ],
   "source": []
  },
  {
   "cell_type": "code",
   "execution_count": null,
   "metadata": {},
   "outputs": [],
   "source": []
  },
  {
   "cell_type": "code",
   "execution_count": null,
   "metadata": {},
   "outputs": [],
   "source": []
  },
  {
   "cell_type": "markdown",
   "metadata": {},
   "source": [
    "## Gamestop Stock Statistics"
   ]
  },
  {
   "cell_type": "code",
   "execution_count": 334,
   "metadata": {},
   "outputs": [
    {
     "name": "stdout",
     "output_type": "stream",
     "text": [
      "<Response [200]>\n"
     ]
    }
   ],
   "source": [
    "stat_query_url = url + '/stats?token=' + token\n",
    "print(requests.get(stat_query_url))"
   ]
  },
  {
   "cell_type": "code",
   "execution_count": 409,
   "metadata": {},
   "outputs": [
    {
     "data": {
      "text/html": [
       "<div>\n",
       "<style scoped>\n",
       "    .dataframe tbody tr th:only-of-type {\n",
       "        vertical-align: middle;\n",
       "    }\n",
       "\n",
       "    .dataframe tbody tr th {\n",
       "        vertical-align: top;\n",
       "    }\n",
       "\n",
       "    .dataframe thead th {\n",
       "        text-align: right;\n",
       "    }\n",
       "</style>\n",
       "<table border=\"1\" class=\"dataframe\">\n",
       "  <thead>\n",
       "    <tr style=\"text-align: right;\">\n",
       "      <th></th>\n",
       "      <th>marketcap</th>\n",
       "      <th>week52high</th>\n",
       "      <th>week52low</th>\n",
       "      <th>week52change</th>\n",
       "      <th>sharesOutstanding</th>\n",
       "      <th>avg10Volume</th>\n",
       "      <th>avg30Volume</th>\n",
       "      <th>day200MovingAvg</th>\n",
       "      <th>day50MovingAvg</th>\n",
       "      <th>ttmEPS</th>\n",
       "      <th>...</th>\n",
       "      <th>maxChangePercent</th>\n",
       "      <th>year5ChangePercent</th>\n",
       "      <th>year2ChangePercent</th>\n",
       "      <th>year1ChangePercent</th>\n",
       "      <th>ytdChangePercent</th>\n",
       "      <th>month6ChangePercent</th>\n",
       "      <th>month3ChangePercent</th>\n",
       "      <th>month1ChangePercent</th>\n",
       "      <th>day30ChangePercent</th>\n",
       "      <th>day5ChangePercent</th>\n",
       "    </tr>\n",
       "    <tr>\n",
       "      <th>companyName</th>\n",
       "      <th></th>\n",
       "      <th></th>\n",
       "      <th></th>\n",
       "      <th></th>\n",
       "      <th></th>\n",
       "      <th></th>\n",
       "      <th></th>\n",
       "      <th></th>\n",
       "      <th></th>\n",
       "      <th></th>\n",
       "      <th></th>\n",
       "      <th></th>\n",
       "      <th></th>\n",
       "      <th></th>\n",
       "      <th></th>\n",
       "      <th></th>\n",
       "      <th></th>\n",
       "      <th></th>\n",
       "      <th></th>\n",
       "      <th></th>\n",
       "      <th></th>\n",
       "    </tr>\n",
       "  </thead>\n",
       "  <tbody>\n",
       "    <tr>\n",
       "      <th>Gamestop Corporation</th>\n",
       "      <td>22667762000</td>\n",
       "      <td>347.51</td>\n",
       "      <td>2.8</td>\n",
       "      <td>83.635417</td>\n",
       "      <td>69746960</td>\n",
       "      <td>116211171</td>\n",
       "      <td>66441953</td>\n",
       "      <td>19.75</td>\n",
       "      <td>54.31</td>\n",
       "      <td>-4.23</td>\n",
       "      <td>...</td>\n",
       "      <td>34.267053</td>\n",
       "      <td>15.066759</td>\n",
       "      <td>28.78973</td>\n",
       "      <td>77.692494</td>\n",
       "      <td>16.250531</td>\n",
       "      <td>79.049261</td>\n",
       "      <td>26.706735</td>\n",
       "      <td>15.769866</td>\n",
       "      <td>15.874351</td>\n",
       "      <td>3.999231</td>\n",
       "    </tr>\n",
       "  </tbody>\n",
       "</table>\n",
       "<p>1 rows × 22 columns</p>\n",
       "</div>"
      ],
      "text/plain": [
       "                        marketcap  week52high  week52low  week52change  \\\n",
       "companyName                                                              \n",
       "Gamestop Corporation  22667762000      347.51        2.8     83.635417   \n",
       "\n",
       "                      sharesOutstanding  avg10Volume  avg30Volume  \\\n",
       "companyName                                                         \n",
       "Gamestop Corporation           69746960    116211171     66441953   \n",
       "\n",
       "                      day200MovingAvg  day50MovingAvg  ttmEPS  ...  \\\n",
       "companyName                                                    ...   \n",
       "Gamestop Corporation            19.75           54.31   -4.23  ...   \n",
       "\n",
       "                      maxChangePercent  year5ChangePercent  \\\n",
       "companyName                                                  \n",
       "Gamestop Corporation         34.267053           15.066759   \n",
       "\n",
       "                      year2ChangePercent  year1ChangePercent  \\\n",
       "companyName                                                    \n",
       "Gamestop Corporation            28.78973           77.692494   \n",
       "\n",
       "                      ytdChangePercent  month6ChangePercent  \\\n",
       "companyName                                                   \n",
       "Gamestop Corporation         16.250531            79.049261   \n",
       "\n",
       "                      month3ChangePercent  month1ChangePercent  \\\n",
       "companyName                                                      \n",
       "Gamestop Corporation            26.706735            15.769866   \n",
       "\n",
       "                      day30ChangePercent  day5ChangePercent  \n",
       "companyName                                                  \n",
       "Gamestop Corporation           15.874351           3.999231  \n",
       "\n",
       "[1 rows x 22 columns]"
      ]
     },
     "execution_count": 409,
     "metadata": {},
     "output_type": "execute_result"
    }
   ],
   "source": [
    "response = requests.get(stat_query_url)\n",
    "gme_stat = response.json()\n",
    "gme_stats_df = pd.DataFrame([gme_stat]).set_index('companyName').drop(columns=['float', 'employees', 'ttmDividendRate',\n",
    "                                                                              'dividendYield','nextDividendDate', 'exDividendDate',\n",
    "                                                                              'nextEarningsDate'])\n",
    "gme_stats_df"
   ]
  },
  {
   "cell_type": "code",
   "execution_count": null,
   "metadata": {},
   "outputs": [],
   "source": []
  },
  {
   "cell_type": "markdown",
   "metadata": {},
   "source": [
    "## Gamestop Largest Trades"
   ]
  },
  {
   "cell_type": "code",
   "execution_count": 410,
   "metadata": {},
   "outputs": [
    {
     "name": "stdout",
     "output_type": "stream",
     "text": [
      "<Response [200]>\n"
     ]
    }
   ],
   "source": [
    "trade_query_url = url + '/largest-trades?token=' + token\n",
    "print(requests.get(trade_query_url))"
   ]
  },
  {
   "cell_type": "code",
   "execution_count": 411,
   "metadata": {},
   "outputs": [
    {
     "data": {
      "text/html": [
       "<div>\n",
       "<style scoped>\n",
       "    .dataframe tbody tr th:only-of-type {\n",
       "        vertical-align: middle;\n",
       "    }\n",
       "\n",
       "    .dataframe tbody tr th {\n",
       "        vertical-align: top;\n",
       "    }\n",
       "\n",
       "    .dataframe thead th {\n",
       "        text-align: right;\n",
       "    }\n",
       "</style>\n",
       "<table border=\"1\" class=\"dataframe\">\n",
       "  <thead>\n",
       "    <tr style=\"text-align: right;\">\n",
       "      <th></th>\n",
       "    </tr>\n",
       "  </thead>\n",
       "  <tbody>\n",
       "  </tbody>\n",
       "</table>\n",
       "</div>"
      ],
      "text/plain": [
       "Empty DataFrame\n",
       "Columns: []\n",
       "Index: []"
      ]
     },
     "execution_count": 411,
     "metadata": {},
     "output_type": "execute_result"
    }
   ],
   "source": [
    "response = requests.get(trade_query_url)\n",
    "gme_trade = response.json()\n",
    "pd.DataFrame(gme_trade)"
   ]
  },
  {
   "cell_type": "code",
   "execution_count": null,
   "metadata": {},
   "outputs": [],
   "source": []
  },
  {
   "cell_type": "markdown",
   "metadata": {},
   "source": [
    "## GameStop Halt"
   ]
  },
  {
   "cell_type": "code",
   "execution_count": 294,
   "metadata": {},
   "outputs": [
    {
     "name": "stdout",
     "output_type": "stream",
     "text": [
      "<Response [200]>\n"
     ]
    }
   ],
   "source": [
    "halt_query_url = 'https://cloud.iexapis.com/stable/stats/op-halt-status?symbols=GME&token=' + token\n",
    "print(requests.get(halt_query_url))"
   ]
  },
  {
   "cell_type": "code",
   "execution_count": 295,
   "metadata": {},
   "outputs": [
    {
     "data": {
      "text/html": [
       "<div>\n",
       "<style scoped>\n",
       "    .dataframe tbody tr th:only-of-type {\n",
       "        vertical-align: middle;\n",
       "    }\n",
       "\n",
       "    .dataframe tbody tr th {\n",
       "        vertical-align: top;\n",
       "    }\n",
       "\n",
       "    .dataframe thead th {\n",
       "        text-align: right;\n",
       "    }\n",
       "</style>\n",
       "<table border=\"1\" class=\"dataframe\">\n",
       "  <thead>\n",
       "    <tr style=\"text-align: right;\">\n",
       "      <th></th>\n",
       "      <th>GME</th>\n",
       "    </tr>\n",
       "  </thead>\n",
       "  <tbody>\n",
       "    <tr>\n",
       "      <th>isHalted</th>\n",
       "      <td>False</td>\n",
       "    </tr>\n",
       "    <tr>\n",
       "      <th>timestamp</th>\n",
       "      <td>1611923102528</td>\n",
       "    </tr>\n",
       "  </tbody>\n",
       "</table>\n",
       "</div>"
      ],
      "text/plain": [
       "                     GME\n",
       "isHalted           False\n",
       "timestamp  1611923102528"
      ]
     },
     "execution_count": 295,
     "metadata": {},
     "output_type": "execute_result"
    }
   ],
   "source": [
    "response = requests.get(halt_query_url)\n",
    "gme_halt = response.json()\n",
    "pd.DataFrame(gme_halt)"
   ]
  },
  {
   "cell_type": "code",
   "execution_count": null,
   "metadata": {},
   "outputs": [],
   "source": []
  }
 ],
 "metadata": {
  "kernelspec": {
   "display_name": "Python 3",
   "language": "python",
   "name": "python3"
  },
  "language_info": {
   "codemirror_mode": {
    "name": "ipython",
    "version": 3
   },
   "file_extension": ".py",
   "mimetype": "text/x-python",
   "name": "python",
   "nbconvert_exporter": "python",
   "pygments_lexer": "ipython3",
   "version": "3.8.5"
  }
 },
 "nbformat": 4,
 "nbformat_minor": 4
}
